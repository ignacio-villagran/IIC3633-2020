{
  "nbformat": 4,
  "nbformat_minor": 0,
  "metadata": {
    "colab": {
      "name": "GRU4Rec c/DT.ipynb",
      "provenance": [],
      "collapsed_sections": []
    },
    "kernelspec": {
      "name": "python3",
      "display_name": "Python 3"
    },
    "accelerator": "GPU"
  },
  "cells": [
    {
      "cell_type": "markdown",
      "metadata": {
        "id": "bcrDor7CR1SO"
      },
      "source": [
        "# Gated Recurrent Units for session-based next item prediction\n",
        "\n",
        "Patricio Cerda, Bastián Mavrakis, Denis Parra\n",
        "\n",
        "### Ambiente: Python3 + GPU\n",
        "\n",
        "## Descargar datos y repositorio"
      ]
    },
    {
      "cell_type": "code",
      "metadata": {
        "id": "nCAQDIrOPUQP",
        "colab": {
          "base_uri": "https://localhost:8080/"
        },
        "outputId": "bf2c60bc-0d2f-4456-d463-98152d8e1b3a"
      },
      "source": [
        "# Clone repo\n",
        "!git clone https://github.com/pcerdam/KerasGRU4Rec --single-branch src"
      ],
      "execution_count": 1,
      "outputs": [
        {
          "output_type": "stream",
          "text": [
            "Cloning into 'src'...\n",
            "remote: Enumerating objects: 46, done.\u001b[K\n",
            "remote: Counting objects: 100% (46/46), done.\u001b[K\n",
            "remote: Compressing objects: 100% (30/30), done.\u001b[K\n",
            "remote: Total 207 (delta 15), reused 32 (delta 12), pack-reused 161\u001b[K\n",
            "Receiving objects: 100% (207/207), 10.58 MiB | 20.21 MiB/s, done.\n",
            "Resolving deltas: 100% (87/87), done.\n"
          ],
          "name": "stdout"
        }
      ]
    },
    {
      "cell_type": "code",
      "metadata": {
        "id": "BpccDqjDPbjI",
        "colab": {
          "base_uri": "https://localhost:8080/"
        },
        "outputId": "79f66465-0e28-43b2-fa4c-2e1c98f051e8"
      },
      "source": [
        "# Download RecSys Challenge 2015 dataset\n",
        "!rm -r sample_data\n",
        "!curl https://s3-eu-west-1.amazonaws.com/yc-rdata/yoochoose-data.7z --output data.7z"
      ],
      "execution_count": 2,
      "outputs": [
        {
          "output_type": "stream",
          "text": [
            "  % Total    % Received % Xferd  Average Speed   Time    Time     Time  Current\n",
            "                                 Dload  Upload   Total   Spent    Left  Speed\n",
            "100  273M  100  273M    0     0  29.7M      0  0:00:09  0:00:09 --:--:-- 33.6M\n"
          ],
          "name": "stdout"
        }
      ]
    },
    {
      "cell_type": "code",
      "metadata": {
        "id": "AJkLaRyqPp-z",
        "colab": {
          "base_uri": "https://localhost:8080/"
        },
        "outputId": "a4158f8c-faff-47fc-a271-d4e72af3e59b"
      },
      "source": [
        "# Extract dataset\n",
        "!7z e data.7z -o./rsc15\n",
        "!rm data.7z\n",
        "!mkdir data"
      ],
      "execution_count": 3,
      "outputs": [
        {
          "output_type": "stream",
          "text": [
            "\n",
            "7-Zip [64] 16.02 : Copyright (c) 1999-2016 Igor Pavlov : 2016-05-21\n",
            "p7zip Version 16.02 (locale=en_US.UTF-8,Utf16=on,HugeFiles=on,64 bits,2 CPUs Intel(R) Xeon(R) CPU @ 2.20GHz (406F0),ASM,AES-NI)\n",
            "\n",
            "Scanning the drive for archives:\n",
            "  0M Scan\b\b\b\b\b\b\b\b\b         \b\b\b\b\b\b\b\b\b1 file, 287211932 bytes (274 MiB)\n",
            "\n",
            "Extracting archive: data.7z\n",
            "--\n",
            "Path = data.7z\n",
            "Type = 7z\n",
            "Physical Size = 287211932\n",
            "Headers Size = 255\n",
            "Method = LZMA:24\n",
            "Solid = +\n",
            "Blocks = 2\n",
            "\n",
            "  0%\b\b\b\b    \b\b\b\b  0% - yoochoose-buys.dat\b\b\b\b\b\b\b\b\b\b\b\b\b\b\b\b\b\b\b\b\b\b\b\b\b                         \b\b\b\b\b\b\b\b\b\b\b\b\b\b\b\b\b\b\b\b\b\b\b\b\b  1% - yoochoose-buys.dat\b\b\b\b\b\b\b\b\b\b\b\b\b\b\b\b\b\b\b\b\b\b\b\b\b                         \b\b\b\b\b\b\b\b\b\b\b\b\b\b\b\b\b\b\b\b\b\b\b\b\b  2% - yoochoose-buys.dat\b\b\b\b\b\b\b\b\b\b\b\b\b\b\b\b\b\b\b\b\b\b\b\b\b                         \b\b\b\b\b\b\b\b\b\b\b\b\b\b\b\b\b\b\b\b\b\b\b\b\b  3% 1 - yoochoose-clicks.dat\b\b\b\b\b\b\b\b\b\b\b\b\b\b\b\b\b\b\b\b\b\b\b\b\b\b\b\b\b                             \b\b\b\b\b\b\b\b\b\b\b\b\b\b\b\b\b\b\b\b\b\b\b\b\b\b\b\b\b  4% 1 - yoochoose-clicks.dat\b\b\b\b\b\b\b\b\b\b\b\b\b\b\b\b\b\b\b\b\b\b\b\b\b\b\b\b\b                             \b\b\b\b\b\b\b\b\b\b\b\b\b\b\b\b\b\b\b\b\b\b\b\b\b\b\b\b\b  5% 1 - yoochoose-clicks.dat\b\b\b\b\b\b\b\b\b\b\b\b\b\b\b\b\b\b\b\b\b\b\b\b\b\b\b\b\b                             \b\b\b\b\b\b\b\b\b\b\b\b\b\b\b\b\b\b\b\b\b\b\b\b\b\b\b\b\b  6% 1 - yoochoose-clicks.dat\b\b\b\b\b\b\b\b\b\b\b\b\b\b\b\b\b\b\b\b\b\b\b\b\b\b\b\b\b                             \b\b\b\b\b\b\b\b\b\b\b\b\b\b\b\b\b\b\b\b\b\b\b\b\b\b\b\b\b  7% 1 - yoochoose-clicks.dat\b\b\b\b\b\b\b\b\b\b\b\b\b\b\b\b\b\b\b\b\b\b\b\b\b\b\b\b\b                             \b\b\b\b\b\b\b\b\b\b\b\b\b\b\b\b\b\b\b\b\b\b\b\b\b\b\b\b\b  8% 1 - yoochoose-clicks.dat\b\b\b\b\b\b\b\b\b\b\b\b\b\b\b\b\b\b\b\b\b\b\b\b\b\b\b\b\b                             \b\b\b\b\b\b\b\b\b\b\b\b\b\b\b\b\b\b\b\b\b\b\b\b\b\b\b\b\b  9% 1 - yoochoose-clicks.dat\b\b\b\b\b\b\b\b\b\b\b\b\b\b\b\b\b\b\b\b\b\b\b\b\b\b\b\b\b                             \b\b\b\b\b\b\b\b\b\b\b\b\b\b\b\b\b\b\b\b\b\b\b\b\b\b\b\b\b 10% 1 - yoochoose-clicks.dat\b\b\b\b\b\b\b\b\b\b\b\b\b\b\b\b\b\b\b\b\b\b\b\b\b\b\b\b\b                             \b\b\b\b\b\b\b\b\b\b\b\b\b\b\b\b\b\b\b\b\b\b\b\b\b\b\b\b\b 11% 1 - yoochoose-clicks.dat\b\b\b\b\b\b\b\b\b\b\b\b\b\b\b\b\b\b\b\b\b\b\b\b\b\b\b\b\b                             \b\b\b\b\b\b\b\b\b\b\b\b\b\b\b\b\b\b\b\b\b\b\b\b\b\b\b\b\b 12% 1 - yoochoose-clicks.dat\b\b\b\b\b\b\b\b\b\b\b\b\b\b\b\b\b\b\b\b\b\b\b\b\b\b\b\b\b                             \b\b\b\b\b\b\b\b\b\b\b\b\b\b\b\b\b\b\b\b\b\b\b\b\b\b\b\b\b 13% 1 - yoochoose-clicks.dat\b\b\b\b\b\b\b\b\b\b\b\b\b\b\b\b\b\b\b\b\b\b\b\b\b\b\b\b\b                             \b\b\b\b\b\b\b\b\b\b\b\b\b\b\b\b\b\b\b\b\b\b\b\b\b\b\b\b\b 14% 1 - yoochoose-clicks.dat\b\b\b\b\b\b\b\b\b\b\b\b\b\b\b\b\b\b\b\b\b\b\b\b\b\b\b\b\b                             \b\b\b\b\b\b\b\b\b\b\b\b\b\b\b\b\b\b\b\b\b\b\b\b\b\b\b\b\b 15% 1 - yoochoose-clicks.dat\b\b\b\b\b\b\b\b\b\b\b\b\b\b\b\b\b\b\b\b\b\b\b\b\b\b\b\b\b                             \b\b\b\b\b\b\b\b\b\b\b\b\b\b\b\b\b\b\b\b\b\b\b\b\b\b\b\b\b 16% 1 - yoochoose-clicks.dat\b\b\b\b\b\b\b\b\b\b\b\b\b\b\b\b\b\b\b\b\b\b\b\b\b\b\b\b\b                             \b\b\b\b\b\b\b\b\b\b\b\b\b\b\b\b\b\b\b\b\b\b\b\b\b\b\b\b\b 17% 1 - yoochoose-clicks.dat\b\b\b\b\b\b\b\b\b\b\b\b\b\b\b\b\b\b\b\b\b\b\b\b\b\b\b\b\b                             \b\b\b\b\b\b\b\b\b\b\b\b\b\b\b\b\b\b\b\b\b\b\b\b\b\b\b\b\b 18% 1 - yoochoose-clicks.dat\b\b\b\b\b\b\b\b\b\b\b\b\b\b\b\b\b\b\b\b\b\b\b\b\b\b\b\b\b                             \b\b\b\b\b\b\b\b\b\b\b\b\b\b\b\b\b\b\b\b\b\b\b\b\b\b\b\b\b 19% 1 - yoochoose-clicks.dat\b\b\b\b\b\b\b\b\b\b\b\b\b\b\b\b\b\b\b\b\b\b\b\b\b\b\b\b\b                             \b\b\b\b\b\b\b\b\b\b\b\b\b\b\b\b\b\b\b\b\b\b\b\b\b\b\b\b\b 20% 1 - yoochoose-clicks.dat\b\b\b\b\b\b\b\b\b\b\b\b\b\b\b\b\b\b\b\b\b\b\b\b\b\b\b\b\b                             \b\b\b\b\b\b\b\b\b\b\b\b\b\b\b\b\b\b\b\b\b\b\b\b\b\b\b\b\b 21% 1 - yoochoose-clicks.dat\b\b\b\b\b\b\b\b\b\b\b\b\b\b\b\b\b\b\b\b\b\b\b\b\b\b\b\b\b                             \b\b\b\b\b\b\b\b\b\b\b\b\b\b\b\b\b\b\b\b\b\b\b\b\b\b\b\b\b 22% 1 - yoochoose-clicks.dat\b\b\b\b\b\b\b\b\b\b\b\b\b\b\b\b\b\b\b\b\b\b\b\b\b\b\b\b\b                             \b\b\b\b\b\b\b\b\b\b\b\b\b\b\b\b\b\b\b\b\b\b\b\b\b\b\b\b\b 23% 1 - yoochoose-clicks.dat\b\b\b\b\b\b\b\b\b\b\b\b\b\b\b\b\b\b\b\b\b\b\b\b\b\b\b\b\b                             \b\b\b\b\b\b\b\b\b\b\b\b\b\b\b\b\b\b\b\b\b\b\b\b\b\b\b\b\b 24% 1 - yoochoose-clicks.dat\b\b\b\b\b\b\b\b\b\b\b\b\b\b\b\b\b\b\b\b\b\b\b\b\b\b\b\b\b                             \b\b\b\b\b\b\b\b\b\b\b\b\b\b\b\b\b\b\b\b\b\b\b\b\b\b\b\b\b 25% 1 - yoochoose-clicks.dat\b\b\b\b\b\b\b\b\b\b\b\b\b\b\b\b\b\b\b\b\b\b\b\b\b\b\b\b\b                             \b\b\b\b\b\b\b\b\b\b\b\b\b\b\b\b\b\b\b\b\b\b\b\b\b\b\b\b\b 26% 1 - yoochoose-clicks.dat\b\b\b\b\b\b\b\b\b\b\b\b\b\b\b\b\b\b\b\b\b\b\b\b\b\b\b\b\b                             \b\b\b\b\b\b\b\b\b\b\b\b\b\b\b\b\b\b\b\b\b\b\b\b\b\b\b\b\b 27% 1 - yoochoose-clicks.dat\b\b\b\b\b\b\b\b\b\b\b\b\b\b\b\b\b\b\b\b\b\b\b\b\b\b\b\b\b                             \b\b\b\b\b\b\b\b\b\b\b\b\b\b\b\b\b\b\b\b\b\b\b\b\b\b\b\b\b 28% 1 - yoochoose-clicks.dat\b\b\b\b\b\b\b\b\b\b\b\b\b\b\b\b\b\b\b\b\b\b\b\b\b\b\b\b\b                             \b\b\b\b\b\b\b\b\b\b\b\b\b\b\b\b\b\b\b\b\b\b\b\b\b\b\b\b\b 29% 1 - yoochoose-clicks.dat\b\b\b\b\b\b\b\b\b\b\b\b\b\b\b\b\b\b\b\b\b\b\b\b\b\b\b\b\b                             \b\b\b\b\b\b\b\b\b\b\b\b\b\b\b\b\b\b\b\b\b\b\b\b\b\b\b\b\b 30% 1 - yoochoose-clicks.dat\b\b\b\b\b\b\b\b\b\b\b\b\b\b\b\b\b\b\b\b\b\b\b\b\b\b\b\b\b                             \b\b\b\b\b\b\b\b\b\b\b\b\b\b\b\b\b\b\b\b\b\b\b\b\b\b\b\b\b 31% 1 - yoochoose-clicks.dat\b\b\b\b\b\b\b\b\b\b\b\b\b\b\b\b\b\b\b\b\b\b\b\b\b\b\b\b\b                             \b\b\b\b\b\b\b\b\b\b\b\b\b\b\b\b\b\b\b\b\b\b\b\b\b\b\b\b\b 32% 1 - yoochoose-clicks.dat\b\b\b\b\b\b\b\b\b\b\b\b\b\b\b\b\b\b\b\b\b\b\b\b\b\b\b\b\b                             \b\b\b\b\b\b\b\b\b\b\b\b\b\b\b\b\b\b\b\b\b\b\b\b\b\b\b\b\b 33% 1 - yoochoose-clicks.dat\b\b\b\b\b\b\b\b\b\b\b\b\b\b\b\b\b\b\b\b\b\b\b\b\b\b\b\b\b                             \b\b\b\b\b\b\b\b\b\b\b\b\b\b\b\b\b\b\b\b\b\b\b\b\b\b\b\b\b 34% 1 - yoochoose-clicks.dat\b\b\b\b\b\b\b\b\b\b\b\b\b\b\b\b\b\b\b\b\b\b\b\b\b\b\b\b\b                             \b\b\b\b\b\b\b\b\b\b\b\b\b\b\b\b\b\b\b\b\b\b\b\b\b\b\b\b\b 35% 1 - yoochoose-clicks.dat\b\b\b\b\b\b\b\b\b\b\b\b\b\b\b\b\b\b\b\b\b\b\b\b\b\b\b\b\b                             \b\b\b\b\b\b\b\b\b\b\b\b\b\b\b\b\b\b\b\b\b\b\b\b\b\b\b\b\b 36% 1 - yoochoose-clicks.dat\b\b\b\b\b\b\b\b\b\b\b\b\b\b\b\b\b\b\b\b\b\b\b\b\b\b\b\b\b                             \b\b\b\b\b\b\b\b\b\b\b\b\b\b\b\b\b\b\b\b\b\b\b\b\b\b\b\b\b 37% 1 - yoochoose-clicks.dat\b\b\b\b\b\b\b\b\b\b\b\b\b\b\b\b\b\b\b\b\b\b\b\b\b\b\b\b\b                             \b\b\b\b\b\b\b\b\b\b\b\b\b\b\b\b\b\b\b\b\b\b\b\b\b\b\b\b\b 38% 1 - yoochoose-clicks.dat\b\b\b\b\b\b\b\b\b\b\b\b\b\b\b\b\b\b\b\b\b\b\b\b\b\b\b\b\b                             \b\b\b\b\b\b\b\b\b\b\b\b\b\b\b\b\b\b\b\b\b\b\b\b\b\b\b\b\b 39% 1 - yoochoose-clicks.dat\b\b\b\b\b\b\b\b\b\b\b\b\b\b\b\b\b\b\b\b\b\b\b\b\b\b\b\b\b                             \b\b\b\b\b\b\b\b\b\b\b\b\b\b\b\b\b\b\b\b\b\b\b\b\b\b\b\b\b 40% 1 - yoochoose-clicks.dat\b\b\b\b\b\b\b\b\b\b\b\b\b\b\b\b\b\b\b\b\b\b\b\b\b\b\b\b\b                             \b\b\b\b\b\b\b\b\b\b\b\b\b\b\b\b\b\b\b\b\b\b\b\b\b\b\b\b\b 41% 1 - yoochoose-clicks.dat\b\b\b\b\b\b\b\b\b\b\b\b\b\b\b\b\b\b\b\b\b\b\b\b\b\b\b\b\b                             \b\b\b\b\b\b\b\b\b\b\b\b\b\b\b\b\b\b\b\b\b\b\b\b\b\b\b\b\b 42% 1 - yoochoose-clicks.dat\b\b\b\b\b\b\b\b\b\b\b\b\b\b\b\b\b\b\b\b\b\b\b\b\b\b\b\b\b                             \b\b\b\b\b\b\b\b\b\b\b\b\b\b\b\b\b\b\b\b\b\b\b\b\b\b\b\b\b 43% 1 - yoochoose-clicks.dat\b\b\b\b\b\b\b\b\b\b\b\b\b\b\b\b\b\b\b\b\b\b\b\b\b\b\b\b\b                             \b\b\b\b\b\b\b\b\b\b\b\b\b\b\b\b\b\b\b\b\b\b\b\b\b\b\b\b\b 44% 1 - yoochoose-clicks.dat\b\b\b\b\b\b\b\b\b\b\b\b\b\b\b\b\b\b\b\b\b\b\b\b\b\b\b\b\b                             \b\b\b\b\b\b\b\b\b\b\b\b\b\b\b\b\b\b\b\b\b\b\b\b\b\b\b\b\b 45% 1 - yoochoose-clicks.dat\b\b\b\b\b\b\b\b\b\b\b\b\b\b\b\b\b\b\b\b\b\b\b\b\b\b\b\b\b                             \b\b\b\b\b\b\b\b\b\b\b\b\b\b\b\b\b\b\b\b\b\b\b\b\b\b\b\b\b 46% 1 - yoochoose-clicks.dat\b\b\b\b\b\b\b\b\b\b\b\b\b\b\b\b\b\b\b\b\b\b\b\b\b\b\b\b\b                             \b\b\b\b\b\b\b\b\b\b\b\b\b\b\b\b\b\b\b\b\b\b\b\b\b\b\b\b\b 47% 1 - yoochoose-clicks.dat\b\b\b\b\b\b\b\b\b\b\b\b\b\b\b\b\b\b\b\b\b\b\b\b\b\b\b\b\b                             \b\b\b\b\b\b\b\b\b\b\b\b\b\b\b\b\b\b\b\b\b\b\b\b\b\b\b\b\b 48% 1 - yoochoose-clicks.dat\b\b\b\b\b\b\b\b\b\b\b\b\b\b\b\b\b\b\b\b\b\b\b\b\b\b\b\b\b                             \b\b\b\b\b\b\b\b\b\b\b\b\b\b\b\b\b\b\b\b\b\b\b\b\b\b\b\b\b 49% 1 - yoochoose-clicks.dat\b\b\b\b\b\b\b\b\b\b\b\b\b\b\b\b\b\b\b\b\b\b\b\b\b\b\b\b\b                             \b\b\b\b\b\b\b\b\b\b\b\b\b\b\b\b\b\b\b\b\b\b\b\b\b\b\b\b\b 50% 1 - yoochoose-clicks.dat\b\b\b\b\b\b\b\b\b\b\b\b\b\b\b\b\b\b\b\b\b\b\b\b\b\b\b\b\b                             \b\b\b\b\b\b\b\b\b\b\b\b\b\b\b\b\b\b\b\b\b\b\b\b\b\b\b\b\b 51% 1 - yoochoose-clicks.dat\b\b\b\b\b\b\b\b\b\b\b\b\b\b\b\b\b\b\b\b\b\b\b\b\b\b\b\b\b                             \b\b\b\b\b\b\b\b\b\b\b\b\b\b\b\b\b\b\b\b\b\b\b\b\b\b\b\b\b 52% 1 - yoochoose-clicks.dat\b\b\b\b\b\b\b\b\b\b\b\b\b\b\b\b\b\b\b\b\b\b\b\b\b\b\b\b\b                             \b\b\b\b\b\b\b\b\b\b\b\b\b\b\b\b\b\b\b\b\b\b\b\b\b\b\b\b\b 53% 1 - yoochoose-clicks.dat\b\b\b\b\b\b\b\b\b\b\b\b\b\b\b\b\b\b\b\b\b\b\b\b\b\b\b\b\b                             \b\b\b\b\b\b\b\b\b\b\b\b\b\b\b\b\b\b\b\b\b\b\b\b\b\b\b\b\b 54% 1 - yoochoose-clicks.dat\b\b\b\b\b\b\b\b\b\b\b\b\b\b\b\b\b\b\b\b\b\b\b\b\b\b\b\b\b                             \b\b\b\b\b\b\b\b\b\b\b\b\b\b\b\b\b\b\b\b\b\b\b\b\b\b\b\b\b 55% 1 - yoochoose-clicks.dat\b\b\b\b\b\b\b\b\b\b\b\b\b\b\b\b\b\b\b\b\b\b\b\b\b\b\b\b\b                             \b\b\b\b\b\b\b\b\b\b\b\b\b\b\b\b\b\b\b\b\b\b\b\b\b\b\b\b\b 56% 1 - yoochoose-clicks.dat\b\b\b\b\b\b\b\b\b\b\b\b\b\b\b\b\b\b\b\b\b\b\b\b\b\b\b\b\b                             \b\b\b\b\b\b\b\b\b\b\b\b\b\b\b\b\b\b\b\b\b\b\b\b\b\b\b\b\b 57% 1 - yoochoose-clicks.dat\b\b\b\b\b\b\b\b\b\b\b\b\b\b\b\b\b\b\b\b\b\b\b\b\b\b\b\b\b                             \b\b\b\b\b\b\b\b\b\b\b\b\b\b\b\b\b\b\b\b\b\b\b\b\b\b\b\b\b 58% 1 - yoochoose-clicks.dat\b\b\b\b\b\b\b\b\b\b\b\b\b\b\b\b\b\b\b\b\b\b\b\b\b\b\b\b\b                             \b\b\b\b\b\b\b\b\b\b\b\b\b\b\b\b\b\b\b\b\b\b\b\b\b\b\b\b\b 59% 1 - yoochoose-clicks.dat\b\b\b\b\b\b\b\b\b\b\b\b\b\b\b\b\b\b\b\b\b\b\b\b\b\b\b\b\b                             \b\b\b\b\b\b\b\b\b\b\b\b\b\b\b\b\b\b\b\b\b\b\b\b\b\b\b\b\b 60% 1 - yoochoose-clicks.dat\b\b\b\b\b\b\b\b\b\b\b\b\b\b\b\b\b\b\b\b\b\b\b\b\b\b\b\b\b                             \b\b\b\b\b\b\b\b\b\b\b\b\b\b\b\b\b\b\b\b\b\b\b\b\b\b\b\b\b 61% 1 - yoochoose-clicks.dat\b\b\b\b\b\b\b\b\b\b\b\b\b\b\b\b\b\b\b\b\b\b\b\b\b\b\b\b\b                             \b\b\b\b\b\b\b\b\b\b\b\b\b\b\b\b\b\b\b\b\b\b\b\b\b\b\b\b\b 62% 1 - yoochoose-clicks.dat\b\b\b\b\b\b\b\b\b\b\b\b\b\b\b\b\b\b\b\b\b\b\b\b\b\b\b\b\b                             \b\b\b\b\b\b\b\b\b\b\b\b\b\b\b\b\b\b\b\b\b\b\b\b\b\b\b\b\b 63% 1 - yoochoose-clicks.dat\b\b\b\b\b\b\b\b\b\b\b\b\b\b\b\b\b\b\b\b\b\b\b\b\b\b\b\b\b                             \b\b\b\b\b\b\b\b\b\b\b\b\b\b\b\b\b\b\b\b\b\b\b\b\b\b\b\b\b 64% 1 - yoochoose-clicks.dat\b\b\b\b\b\b\b\b\b\b\b\b\b\b\b\b\b\b\b\b\b\b\b\b\b\b\b\b\b                             \b\b\b\b\b\b\b\b\b\b\b\b\b\b\b\b\b\b\b\b\b\b\b\b\b\b\b\b\b 65% 1 - yoochoose-clicks.dat\b\b\b\b\b\b\b\b\b\b\b\b\b\b\b\b\b\b\b\b\b\b\b\b\b\b\b\b\b                             \b\b\b\b\b\b\b\b\b\b\b\b\b\b\b\b\b\b\b\b\b\b\b\b\b\b\b\b\b 66% 1 - yoochoose-clicks.dat\b\b\b\b\b\b\b\b\b\b\b\b\b\b\b\b\b\b\b\b\b\b\b\b\b\b\b\b\b                             \b\b\b\b\b\b\b\b\b\b\b\b\b\b\b\b\b\b\b\b\b\b\b\b\b\b\b\b\b 67% 1 - yoochoose-clicks.dat\b\b\b\b\b\b\b\b\b\b\b\b\b\b\b\b\b\b\b\b\b\b\b\b\b\b\b\b\b                             \b\b\b\b\b\b\b\b\b\b\b\b\b\b\b\b\b\b\b\b\b\b\b\b\b\b\b\b\b 68% 1 - yoochoose-clicks.dat\b\b\b\b\b\b\b\b\b\b\b\b\b\b\b\b\b\b\b\b\b\b\b\b\b\b\b\b\b                             \b\b\b\b\b\b\b\b\b\b\b\b\b\b\b\b\b\b\b\b\b\b\b\b\b\b\b\b\b 69% 1 - yoochoose-clicks.dat\b\b\b\b\b\b\b\b\b\b\b\b\b\b\b\b\b\b\b\b\b\b\b\b\b\b\b\b\b                             \b\b\b\b\b\b\b\b\b\b\b\b\b\b\b\b\b\b\b\b\b\b\b\b\b\b\b\b\b 70% 1 - yoochoose-clicks.dat\b\b\b\b\b\b\b\b\b\b\b\b\b\b\b\b\b\b\b\b\b\b\b\b\b\b\b\b\b                             \b\b\b\b\b\b\b\b\b\b\b\b\b\b\b\b\b\b\b\b\b\b\b\b\b\b\b\b\b 71% 1 - yoochoose-clicks.dat\b\b\b\b\b\b\b\b\b\b\b\b\b\b\b\b\b\b\b\b\b\b\b\b\b\b\b\b\b                             \b\b\b\b\b\b\b\b\b\b\b\b\b\b\b\b\b\b\b\b\b\b\b\b\b\b\b\b\b 72% 1 - yoochoose-clicks.dat\b\b\b\b\b\b\b\b\b\b\b\b\b\b\b\b\b\b\b\b\b\b\b\b\b\b\b\b\b                             \b\b\b\b\b\b\b\b\b\b\b\b\b\b\b\b\b\b\b\b\b\b\b\b\b\b\b\b\b 73% 1 - yoochoose-clicks.dat\b\b\b\b\b\b\b\b\b\b\b\b\b\b\b\b\b\b\b\b\b\b\b\b\b\b\b\b\b                             \b\b\b\b\b\b\b\b\b\b\b\b\b\b\b\b\b\b\b\b\b\b\b\b\b\b\b\b\b 74% 1 - yoochoose-clicks.dat\b\b\b\b\b\b\b\b\b\b\b\b\b\b\b\b\b\b\b\b\b\b\b\b\b\b\b\b\b                             \b\b\b\b\b\b\b\b\b\b\b\b\b\b\b\b\b\b\b\b\b\b\b\b\b\b\b\b\b 75% 1 - yoochoose-clicks.dat\b\b\b\b\b\b\b\b\b\b\b\b\b\b\b\b\b\b\b\b\b\b\b\b\b\b\b\b\b                             \b\b\b\b\b\b\b\b\b\b\b\b\b\b\b\b\b\b\b\b\b\b\b\b\b\b\b\b\b 76% 1 - yoochoose-clicks.dat\b\b\b\b\b\b\b\b\b\b\b\b\b\b\b\b\b\b\b\b\b\b\b\b\b\b\b\b\b                             \b\b\b\b\b\b\b\b\b\b\b\b\b\b\b\b\b\b\b\b\b\b\b\b\b\b\b\b\b 77% 1 - yoochoose-clicks.dat\b\b\b\b\b\b\b\b\b\b\b\b\b\b\b\b\b\b\b\b\b\b\b\b\b\b\b\b\b                             \b\b\b\b\b\b\b\b\b\b\b\b\b\b\b\b\b\b\b\b\b\b\b\b\b\b\b\b\b 78% 1 - yoochoose-clicks.dat\b\b\b\b\b\b\b\b\b\b\b\b\b\b\b\b\b\b\b\b\b\b\b\b\b\b\b\b\b                             \b\b\b\b\b\b\b\b\b\b\b\b\b\b\b\b\b\b\b\b\b\b\b\b\b\b\b\b\b 79% 1 - yoochoose-clicks.dat\b\b\b\b\b\b\b\b\b\b\b\b\b\b\b\b\b\b\b\b\b\b\b\b\b\b\b\b\b                             \b\b\b\b\b\b\b\b\b\b\b\b\b\b\b\b\b\b\b\b\b\b\b\b\b\b\b\b\b 80% 1 - yoochoose-clicks.dat\b\b\b\b\b\b\b\b\b\b\b\b\b\b\b\b\b\b\b\b\b\b\b\b\b\b\b\b\b                             \b\b\b\b\b\b\b\b\b\b\b\b\b\b\b\b\b\b\b\b\b\b\b\b\b\b\b\b\b 80% 2 - yoochoose-test.dat\b\b\b\b\b\b\b\b\b\b\b\b\b\b\b\b\b\b\b\b\b\b\b\b\b\b\b                           \b\b\b\b\b\b\b\b\b\b\b\b\b\b\b\b\b\b\b\b\b\b\b\b\b\b\b 81% 2 - yoochoose-test.dat\b\b\b\b\b\b\b\b\b\b\b\b\b\b\b\b\b\b\b\b\b\b\b\b\b\b\b                           \b\b\b\b\b\b\b\b\b\b\b\b\b\b\b\b\b\b\b\b\b\b\b\b\b\b\b 82% 2 - yoochoose-test.dat\b\b\b\b\b\b\b\b\b\b\b\b\b\b\b\b\b\b\b\b\b\b\b\b\b\b\b                           \b\b\b\b\b\b\b\b\b\b\b\b\b\b\b\b\b\b\b\b\b\b\b\b\b\b\b 83% 2 - yoochoose-test.dat\b\b\b\b\b\b\b\b\b\b\b\b\b\b\b\b\b\b\b\b\b\b\b\b\b\b\b                           \b\b\b\b\b\b\b\b\b\b\b\b\b\b\b\b\b\b\b\b\b\b\b\b\b\b\b 84% 2 - yoochoose-test.dat\b\b\b\b\b\b\b\b\b\b\b\b\b\b\b\b\b\b\b\b\b\b\b\b\b\b\b                           \b\b\b\b\b\b\b\b\b\b\b\b\b\b\b\b\b\b\b\b\b\b\b\b\b\b\b 85% 2 - yoochoose-test.dat\b\b\b\b\b\b\b\b\b\b\b\b\b\b\b\b\b\b\b\b\b\b\b\b\b\b\b                           \b\b\b\b\b\b\b\b\b\b\b\b\b\b\b\b\b\b\b\b\b\b\b\b\b\b\b 86% 2 - yoochoose-test.dat\b\b\b\b\b\b\b\b\b\b\b\b\b\b\b\b\b\b\b\b\b\b\b\b\b\b\b                           \b\b\b\b\b\b\b\b\b\b\b\b\b\b\b\b\b\b\b\b\b\b\b\b\b\b\b 87% 2 - yoochoose-test.dat\b\b\b\b\b\b\b\b\b\b\b\b\b\b\b\b\b\b\b\b\b\b\b\b\b\b\b                           \b\b\b\b\b\b\b\b\b\b\b\b\b\b\b\b\b\b\b\b\b\b\b\b\b\b\b 88% 2 - yoochoose-test.dat\b\b\b\b\b\b\b\b\b\b\b\b\b\b\b\b\b\b\b\b\b\b\b\b\b\b\b                           \b\b\b\b\b\b\b\b\b\b\b\b\b\b\b\b\b\b\b\b\b\b\b\b\b\b\b 89% 2 - yoochoose-test.dat\b\b\b\b\b\b\b\b\b\b\b\b\b\b\b\b\b\b\b\b\b\b\b\b\b\b\b                           \b\b\b\b\b\b\b\b\b\b\b\b\b\b\b\b\b\b\b\b\b\b\b\b\b\b\b 90% 2 - yoochoose-test.dat\b\b\b\b\b\b\b\b\b\b\b\b\b\b\b\b\b\b\b\b\b\b\b\b\b\b\b                           \b\b\b\b\b\b\b\b\b\b\b\b\b\b\b\b\b\b\b\b\b\b\b\b\b\b\b 91% 2 - yoochoose-test.dat\b\b\b\b\b\b\b\b\b\b\b\b\b\b\b\b\b\b\b\b\b\b\b\b\b\b\b                           \b\b\b\b\b\b\b\b\b\b\b\b\b\b\b\b\b\b\b\b\b\b\b\b\b\b\b 92% 2 - yoochoose-test.dat\b\b\b\b\b\b\b\b\b\b\b\b\b\b\b\b\b\b\b\b\b\b\b\b\b\b\b                           \b\b\b\b\b\b\b\b\b\b\b\b\b\b\b\b\b\b\b\b\b\b\b\b\b\b\b 93% 2 - yoochoose-test.dat\b\b\b\b\b\b\b\b\b\b\b\b\b\b\b\b\b\b\b\b\b\b\b\b\b\b\b                           \b\b\b\b\b\b\b\b\b\b\b\b\b\b\b\b\b\b\b\b\b\b\b\b\b\b\b 94% 2 - yoochoose-test.dat\b\b\b\b\b\b\b\b\b\b\b\b\b\b\b\b\b\b\b\b\b\b\b\b\b\b\b                           \b\b\b\b\b\b\b\b\b\b\b\b\b\b\b\b\b\b\b\b\b\b\b\b\b\b\b 95% 2 - yoochoose-test.dat\b\b\b\b\b\b\b\b\b\b\b\b\b\b\b\b\b\b\b\b\b\b\b\b\b\b\b                           \b\b\b\b\b\b\b\b\b\b\b\b\b\b\b\b\b\b\b\b\b\b\b\b\b\b\b 96% 2 - yoochoose-test.dat\b\b\b\b\b\b\b\b\b\b\b\b\b\b\b\b\b\b\b\b\b\b\b\b\b\b\b                           \b\b\b\b\b\b\b\b\b\b\b\b\b\b\b\b\b\b\b\b\b\b\b\b\b\b\b 97% 2 - yoochoose-test.dat\b\b\b\b\b\b\b\b\b\b\b\b\b\b\b\b\b\b\b\b\b\b\b\b\b\b\b                           \b\b\b\b\b\b\b\b\b\b\b\b\b\b\b\b\b\b\b\b\b\b\b\b\b\b\b 98% 2 - yoochoose-test.dat\b\b\b\b\b\b\b\b\b\b\b\b\b\b\b\b\b\b\b\b\b\b\b\b\b\b\b                           \b\b\b\b\b\b\b\b\b\b\b\b\b\b\b\b\b\b\b\b\b\b\b\b\b\b\b 99% 2 - yoochoose-test.dat\b\b\b\b\b\b\b\b\b\b\b\b\b\b\b\b\b\b\b\b\b\b\b\b\b\b\b                           \b\b\b\b\b\b\b\b\b\b\b\b\b\b\b\b\b\b\b\b\b\b\b\b\b\b\b 99% 3\b\b\b\b\b\b      \b\b\b\b\b\bEverything is Ok\n",
            "\n",
            "Files: 4\n",
            "Size:       1914111754\n",
            "Compressed: 287211932\n"
          ],
          "name": "stdout"
        }
      ]
    },
    {
      "cell_type": "markdown",
      "metadata": {
        "id": "gpjJOcqDR945"
      },
      "source": [
        "# Preprocesar dataset"
      ]
    },
    {
      "cell_type": "code",
      "metadata": {
        "id": "7E3mSmYQR9k-"
      },
      "source": [
        "import os\n",
        "import numpy as np\n",
        "import pandas as pd\n",
        "import datetime as dt\n",
        "from matplotlib import pyplot as plt\n",
        "os.environ['TF_CPP_MIN_LOG_LEVEL'] = '3'"
      ],
      "execution_count": 4,
      "outputs": []
    },
    {
      "cell_type": "code",
      "metadata": {
        "id": "WwNyFUAHRssj"
      },
      "source": [
        "src_path = './rsc15/'\n",
        "dst_path   = './data/'"
      ],
      "execution_count": 5,
      "outputs": []
    },
    {
      "cell_type": "code",
      "metadata": {
        "id": "om43PXTNSoLu"
      },
      "source": [
        "def process(src_path, dst_path):\n",
        "  data = pd.read_csv(src_path + 'yoochoose-clicks.dat', sep=',', header=None, usecols=[0,1,2], dtype={0:np.int32, 1:str, 2:np.int64})\n",
        "  data.columns = ['SessionId', 'TimeStr', 'ItemId']\n",
        "\n",
        "  # Add timestamp\n",
        "  data['Time'] = data.TimeStr.apply(lambda x: dt.datetime.strptime(x, '%Y-%m-%dT%H:%M:%S.%fZ').timestamp())\n",
        "  del(data['TimeStr'])\n",
        "\n",
        "  # Filter by session size > 1\n",
        "  session_lengths = data.groupby('SessionId').size()  \n",
        "  data = data[np.in1d(data.SessionId, session_lengths[session_lengths>1].index)]\n",
        "  \n",
        "  # Filter by \"known\" (appears >= 5) items\n",
        "  item_supports = data.groupby('ItemId').size()\n",
        "  data = data[np.in1d(data.ItemId, item_supports[item_supports>=5].index)]\n",
        "  \n",
        "  # Filter by session size > 2\n",
        "  session_lengths = data.groupby('SessionId').size()\n",
        "  data = data[np.in1d(data.SessionId, session_lengths[session_lengths>=2].index)]\n",
        "\n",
        "  # Test split is entire last day\n",
        "  tmax = data.Time.max()\n",
        "  session_max_times = data.groupby('SessionId').Time.max()\n",
        "  \n",
        "  session_train = session_max_times[session_max_times < tmax-86400].index\n",
        "  train = data[np.in1d(data.SessionId, session_train)]\n",
        "  \n",
        "  session_test = session_max_times[session_max_times >= tmax-86400].index\n",
        "  test = data[np.in1d(data.SessionId, session_test)]\n",
        "  test = test[np.in1d(test.ItemId, train.ItemId)]\n",
        "  tslength = test.groupby('SessionId').size()\n",
        "  test = test[np.in1d(test.SessionId, tslength[tslength>=2].index)]\n",
        "  print('Test set\\n\\tEvents: {}\\n\\tSessions: {}\\n\\tItems: {}'.format(len(test), test.SessionId.nunique(), test.ItemId.nunique()))\n",
        "  test.to_csv(dst_path + 'test.tsv', sep='\\t', index=False)\n",
        "\n",
        "  # Validation: second to last day. Train: remainder\n",
        "  tmax = train.Time.max()\n",
        "  session_max_times = train.groupby('SessionId').Time.max()\n",
        "  session_train = session_max_times[session_max_times < tmax-86400].index\n",
        "  session_valid = session_max_times[session_max_times >= tmax-86400].index\n",
        "\n",
        "  train_tr = train[np.in1d(train.SessionId, session_train)]\n",
        "  valid = train[np.in1d(train.SessionId, session_valid)]\n",
        "  valid = valid[np.in1d(valid.ItemId, train_tr.ItemId)]\n",
        "  tslength = valid.groupby('SessionId').size()\n",
        "  valid = valid[np.in1d(valid.SessionId, tslength[tslength>=2].index)]\n",
        "  print('Validation set\\n\\tEvents: {}\\n\\tSessions: {}\\n\\tItems: {}'.format(len(valid), valid.SessionId.nunique(), valid.ItemId.nunique()))\n",
        "  valid.to_csv(dst_path + 'validation.tsv', sep='\\t', index=False)\n",
        "  \n",
        "  \n",
        "  print('Train set\\n\\tEvents: {}\\n\\tSessions: {}\\n\\tItems: {}'.format(len(train_tr), train_tr.SessionId.nunique(), train_tr.ItemId.nunique()))\n",
        "  train_tr.to_csv(dst_path + 'train.tsv', sep='\\t', index=False)\n"
      ],
      "execution_count": 6,
      "outputs": []
    },
    {
      "cell_type": "code",
      "metadata": {
        "id": "nc6wy4phS1v2",
        "colab": {
          "base_uri": "https://localhost:8080/"
        },
        "outputId": "c804408c-9b16-4f00-c247-fa242d6b1327"
      },
      "source": [
        "process(src_path, dst_path)  # Takes ~10 minutes"
      ],
      "execution_count": 7,
      "outputs": [
        {
          "output_type": "stream",
          "text": [
            "Test set\n",
            "\tEvents: 71222\n",
            "\tSessions: 15324\n",
            "\tItems: 6751\n",
            "Validation set\n",
            "\tEvents: 58233\n",
            "\tSessions: 12372\n",
            "\tItems: 6359\n",
            "Train set\n",
            "\tEvents: 31579006\n",
            "\tSessions: 7953885\n",
            "\tItems: 37483\n"
          ],
          "name": "stdout"
        }
      ]
    },
    {
      "cell_type": "code",
      "metadata": {
        "id": "kx_HdipUDS2z"
      },
      "source": [
        "def train_fraction(df, fraction, prefix=\"train\", path=\"./data/\"):\n",
        "    \n",
        "    length = len(df['ItemId'])\n",
        "    first_session = df.iloc[length - length//fraction].SessionId\n",
        "    df = df.loc[df['SessionId'] >= first_session]\n",
        "    itemids = df['ItemId'].unique()\n",
        "    n_items = len(itemids)\n",
        "\n",
        "    print('Fractioned data set\\n\\tEvents: {}\\n\\tSessions: {}\\n\\tItems: {}'.format(len(df), df.SessionId.nunique(), df.ItemId.nunique()))\n",
        "    filename = path + '{}_{}.tsv'.format(prefix, fraction)\n",
        "    df.to_csv(filename, sep='\\t', index=False)\n",
        "    print(\"Saved as {}\".format(filename))"
      ],
      "execution_count": 8,
      "outputs": []
    },
    {
      "cell_type": "code",
      "metadata": {
        "id": "4r1tWG1gh7eX",
        "colab": {
          "base_uri": "https://localhost:8080/"
        },
        "outputId": "90de5441-116d-48ce-e2c1-65036e8010aa"
      },
      "source": [
        "# Obtain most recent 1/nth fraction of train for demo purposes\n",
        "fraction = 64\n",
        "train = pd.read_csv(dst_path + 'train.tsv', sep='\\t', dtype={'ItemId':np.int64})\n",
        "train_fraction(train, fraction)\n"
      ],
      "execution_count": 9,
      "outputs": [
        {
          "output_type": "stream",
          "text": [
            "Fractioned data set\n",
            "\tEvents: 71391\n",
            "\tSessions: 17450\n",
            "\tItems: 8724\n",
            "Saved as ./data/train_64.tsv\n"
          ],
          "name": "stdout"
        }
      ]
    },
    {
      "cell_type": "markdown",
      "metadata": {
        "id": "ZWgvazVufHs6"
      },
      "source": [
        "# Entrenamiento"
      ]
    },
    {
      "cell_type": "code",
      "metadata": {
        "id": "PSPwVh4AS_GW",
        "colab": {
          "base_uri": "https://localhost:8080/"
        },
        "outputId": "0f627b73-23a4-401c-e9d5-e96633e4328d"
      },
      "source": [
        "!python src/model/gru4rec.py --epochs 200 --train-path ./data/train_64.tsv --dev-path ./data/validation.tsv --test-path ./data/test.tsv"
      ],
      "execution_count": 10,
      "outputs": [
        {
          "output_type": "stream",
          "text": [
            "Model: \"functional_1\"\n",
            "_________________________________________________________________\n",
            "Layer (type)                 Output Shape              Param #   \n",
            "=================================================================\n",
            "input_1 (InputLayer)         [(512, 1, 8725)]          0         \n",
            "_________________________________________________________________\n",
            "GRU (GRU)                    [(512, 100), (512, 100)]  2648100   \n",
            "_________________________________________________________________\n",
            "dropout (Dropout)            (512, 100)                0         \n",
            "_________________________________________________________________\n",
            "dense (Dense)                (512, 8725)               881225    \n",
            "=================================================================\n",
            "Total params: 3,529,325\n",
            "Trainable params: 3,529,325\n",
            "Non-trainable params: 0\n",
            "_________________________________________________________________\n",
            "Epoch 1. Loss: 8.34895:  97% 16929/17451 [00:12<00:00, 1364.57it/s]\n",
            "Epoch 2. Loss: 7.89280:  97% 16929/17451 [00:04<00:00, 3402.25it/s]\n",
            "Epoch 3. Loss: 7.60804:  97% 16929/17451 [00:04<00:00, 3396.19it/s]\n",
            "Epoch 4. Loss: 7.41446:  97% 16929/17451 [00:05<00:00, 3380.26it/s]\n",
            "Epoch 5. Loss: 7.28292:  97% 16929/17451 [00:05<00:00, 3354.30it/s]\n",
            "Epoch 6. Loss: 7.16346:  97% 16929/17451 [00:05<00:00, 3314.44it/s]\n",
            "Epoch 7. Loss: 7.03301:  97% 16929/17451 [00:04<00:00, 3402.04it/s]\n",
            "Epoch 8. Loss: 6.88171:  97% 16929/17451 [00:05<00:00, 3384.51it/s]\n",
            "Epoch 9. Loss: 6.70151:  97% 16929/17451 [00:04<00:00, 3386.27it/s]\n",
            "Epoch 10. Loss: 6.51249:  97% 16929/17451 [00:05<00:00, 3385.04it/s]\n",
            "Epoch 11. Loss: 6.34189:  97% 16929/17451 [00:05<00:00, 3355.81it/s]\n",
            "Epoch 12. Loss: 6.17164:  97% 16929/17451 [00:05<00:00, 3380.61it/s]\n",
            "Epoch 13. Loss: 5.99547:  97% 16929/17451 [00:05<00:00, 3378.91it/s]\n",
            "Epoch 14. Loss: 5.81040:  97% 16929/17451 [00:05<00:00, 3384.72it/s]\n",
            "Epoch 15. Loss: 5.66961:  97% 16929/17451 [00:04<00:00, 3398.07it/s]\n",
            "Epoch 16. Loss: 5.47895:  97% 16929/17451 [00:04<00:00, 3391.17it/s]\n",
            "Epoch 17. Loss: 5.32882:  97% 16929/17451 [00:04<00:00, 3394.04it/s]\n",
            "Epoch 18. Loss: 5.16596:  97% 16929/17451 [00:05<00:00, 3348.53it/s]\n",
            "Epoch 19. Loss: 5.03656:  97% 16929/17451 [00:04<00:00, 3403.65it/s]\n",
            "Epoch 20. Loss: 4.88747:  97% 16929/17451 [00:04<00:00, 3388.16it/s]\n",
            "Epoch 21. Loss: 4.75135:  97% 16929/17451 [00:05<00:00, 3348.63it/s]\n",
            "Epoch 22. Loss: 4.59883:  97% 16929/17451 [00:05<00:00, 3328.79it/s]\n",
            "Epoch 23. Loss: 4.48689:  97% 16929/17451 [00:05<00:00, 3371.60it/s]\n",
            "Epoch 24. Loss: 4.39613:  97% 16929/17451 [00:04<00:00, 3400.65it/s]\n",
            "Epoch 25. Loss: 4.26798:  97% 16929/17451 [00:04<00:00, 3413.48it/s]\n",
            "Epoch 26. Loss: 4.13801:  97% 16929/17451 [00:04<00:00, 3410.92it/s]\n",
            "Epoch 27. Loss: 4.01503:  97% 16929/17451 [00:04<00:00, 3409.88it/s]\n",
            "Epoch 28. Loss: 3.93089:  97% 16929/17451 [00:04<00:00, 3390.74it/s]\n",
            "Epoch 29. Loss: 3.83517:  97% 16929/17451 [00:05<00:00, 3384.76it/s]\n",
            "Epoch 30. Loss: 3.70207:  97% 16929/17451 [00:05<00:00, 3369.92it/s]\n",
            "Epoch 31. Loss: 3.58094:  97% 16929/17451 [00:04<00:00, 3397.38it/s]\n",
            "Epoch 32. Loss: 3.54346:  97% 16929/17451 [00:04<00:00, 3404.24it/s]\n",
            "Epoch 33. Loss: 3.45554:  97% 16929/17451 [00:05<00:00, 3383.81it/s]\n",
            "Epoch 34. Loss: 3.35149:  97% 16929/17451 [00:05<00:00, 3350.59it/s]\n",
            "Epoch 35. Loss: 3.26888:  97% 16929/17451 [00:05<00:00, 3373.77it/s]\n",
            "Epoch 36. Loss: 3.14355:  97% 16929/17451 [00:05<00:00, 3276.88it/s]\n",
            "Epoch 37. Loss: 3.14647:  97% 16929/17451 [00:05<00:00, 3275.34it/s]\n",
            "Epoch 38. Loss: 3.06668:  97% 16929/17451 [00:05<00:00, 3374.86it/s]\n",
            "Epoch 39. Loss: 2.99013:  97% 16929/17451 [00:04<00:00, 3408.35it/s]\n",
            "Epoch 40. Loss: 2.92173:  97% 16929/17451 [00:04<00:00, 3417.92it/s]\n",
            "Epoch 41. Loss: 2.88740:  97% 16929/17451 [00:04<00:00, 3425.35it/s]\n",
            "Epoch 42. Loss: 2.81441:  97% 16929/17451 [00:05<00:00, 3373.70it/s]\n",
            "Epoch 43. Loss: 2.70368:  97% 16929/17451 [00:05<00:00, 3378.99it/s]\n",
            "Epoch 44. Loss: 2.71634:  97% 16929/17451 [00:04<00:00, 3418.10it/s]\n",
            "Epoch 45. Loss: 2.65637:  97% 16929/17451 [00:05<00:00, 3361.69it/s]\n",
            "Epoch 46. Loss: 2.57746:  97% 16929/17451 [00:05<00:00, 3383.94it/s]\n",
            "Epoch 47. Loss: 2.58911:  97% 16929/17451 [00:04<00:00, 3407.11it/s]\n",
            "Epoch 48. Loss: 2.49249:  97% 16929/17451 [00:04<00:00, 3400.33it/s]\n",
            "Epoch 49. Loss: 2.48728:  97% 16929/17451 [00:04<00:00, 3404.22it/s]\n",
            "Epoch 50. Loss: 2.49034:  97% 16929/17451 [00:05<00:00, 3374.13it/s]\n",
            "Epoch 51. Loss: 2.43583:  97% 16929/17451 [00:04<00:00, 3394.11it/s]\n",
            "Epoch 52. Loss: 2.40454:  97% 16929/17451 [00:05<00:00, 3370.07it/s]\n",
            "Epoch 53. Loss: 2.35915:  97% 16929/17451 [00:05<00:00, 3357.69it/s]\n",
            "Epoch 54. Loss: 2.34397:  97% 16929/17451 [00:05<00:00, 3384.38it/s]\n",
            "Epoch 55. Loss: 2.36767:  97% 16929/17451 [00:04<00:00, 3427.09it/s]\n",
            "Epoch 56. Loss: 2.32194:  97% 16929/17451 [00:05<00:00, 3380.62it/s]\n",
            "Epoch 57. Loss: 2.31062:  97% 16929/17451 [00:05<00:00, 3382.02it/s]\n",
            "Epoch 58. Loss: 2.26607:  97% 16929/17451 [00:04<00:00, 3408.48it/s]\n",
            "Epoch 59. Loss: 2.33193:  97% 16929/17451 [00:04<00:00, 3387.79it/s]\n",
            "Epoch 60. Loss: 2.25620:  97% 16929/17451 [00:05<00:00, 3339.49it/s]\n",
            "Epoch 61. Loss: 2.25934:  97% 16929/17451 [00:05<00:00, 3376.71it/s]\n",
            "Epoch 62. Loss: 2.20616:  97% 16929/17451 [00:04<00:00, 3408.26it/s]\n",
            "Epoch 63. Loss: 2.20157:  97% 16929/17451 [00:04<00:00, 3408.06it/s]\n",
            "Epoch 64. Loss: 2.14745:  97% 16929/17451 [00:04<00:00, 3438.24it/s]\n",
            "Epoch 65. Loss: 2.20573:  97% 16929/17451 [00:04<00:00, 3424.20it/s]\n",
            "Epoch 66. Loss: 2.19439:  97% 16929/17451 [00:05<00:00, 3356.41it/s]\n",
            "Epoch 67. Loss: 2.16886:  97% 16929/17451 [00:04<00:00, 3424.29it/s]\n",
            "Epoch 68. Loss: 2.11613:  97% 16929/17451 [00:05<00:00, 3379.09it/s]\n",
            "Epoch 69. Loss: 2.15912:  97% 16929/17451 [00:05<00:00, 3344.43it/s]\n",
            "Epoch 70. Loss: 2.09912:  97% 16929/17451 [00:04<00:00, 3389.08it/s]\n",
            "Epoch 71. Loss: 2.13760:  97% 16929/17451 [00:04<00:00, 3420.49it/s]\n",
            "Epoch 72. Loss: 2.09663:  97% 16929/17451 [00:04<00:00, 3438.34it/s]\n",
            "Epoch 73. Loss: 2.06687:  97% 16929/17451 [00:04<00:00, 3431.66it/s]\n",
            "Epoch 74. Loss: 2.07716:  97% 16929/17451 [00:04<00:00, 3388.92it/s]\n",
            "Epoch 75. Loss: 2.05524:  97% 16929/17451 [00:04<00:00, 3408.19it/s]\n",
            "Epoch 76. Loss: 2.01370:  97% 16929/17451 [00:04<00:00, 3405.90it/s]\n",
            "Epoch 77. Loss: 2.06033:  97% 16929/17451 [00:05<00:00, 3383.88it/s]\n",
            "Epoch 78. Loss: 1.98703:  97% 16929/17451 [00:04<00:00, 3426.66it/s]\n",
            "Epoch 79. Loss: 2.01614:  97% 16929/17451 [00:04<00:00, 3401.35it/s]\n",
            "Epoch 80. Loss: 1.95218:  97% 16929/17451 [00:05<00:00, 3385.37it/s]\n",
            "Epoch 81. Loss: 1.98645:  97% 16929/17451 [00:05<00:00, 3362.57it/s]\n",
            "Epoch 82. Loss: 1.94999:  97% 16929/17451 [00:05<00:00, 3335.61it/s]\n",
            "Epoch 83. Loss: 1.93861:  97% 16929/17451 [00:05<00:00, 3362.99it/s]\n",
            "Epoch 84. Loss: 1.99581:  97% 16929/17451 [00:04<00:00, 3394.55it/s]\n",
            "Epoch 85. Loss: 1.94508:  97% 16929/17451 [00:05<00:00, 3371.98it/s]\n",
            "Epoch 86. Loss: 1.95923:  97% 16929/17451 [00:05<00:00, 3355.34it/s]\n",
            "Epoch 87. Loss: 1.94860:  97% 16929/17451 [00:05<00:00, 3369.88it/s]\n",
            "Epoch 88. Loss: 1.92719:  97% 16929/17451 [00:04<00:00, 3396.79it/s]\n",
            "Epoch 89. Loss: 1.92862:  97% 16929/17451 [00:04<00:00, 3409.60it/s]\n",
            "Epoch 90. Loss: 1.94600:  97% 16929/17451 [00:04<00:00, 3420.47it/s]\n",
            "Epoch 91. Loss: 1.90449:  97% 16929/17451 [00:04<00:00, 3395.78it/s]\n",
            "Epoch 92. Loss: 1.87848:  97% 16929/17451 [00:04<00:00, 3389.62it/s]\n",
            "Epoch 93. Loss: 1.90922:  97% 16929/17451 [00:05<00:00, 3383.31it/s]\n",
            "Epoch 94. Loss: 1.87956:  97% 16929/17451 [00:04<00:00, 3395.82it/s]\n",
            "Epoch 95. Loss: 1.84686:  97% 16929/17451 [00:05<00:00, 3375.80it/s]\n",
            "Epoch 96. Loss: 1.92557:  97% 16929/17451 [00:05<00:00, 3374.36it/s]\n",
            "Epoch 97. Loss: 1.89781:  97% 16929/17451 [00:05<00:00, 3384.36it/s]\n",
            "Epoch 98. Loss: 1.85202:  97% 16929/17451 [00:05<00:00, 3266.72it/s]\n",
            "Epoch 99. Loss: 1.80313:  97% 16929/17451 [00:05<00:00, 3282.53it/s]\n",
            "Epoch 100. Loss: 1.82874:  97% 16929/17451 [00:05<00:00, 3357.99it/s]\n",
            "Epoch 101. Loss: 1.85794:  97% 16929/17451 [00:04<00:00, 3386.33it/s]\n",
            "Epoch 102. Loss: 1.79407:  97% 16929/17451 [00:05<00:00, 3354.91it/s]\n",
            "Epoch 103. Loss: 1.83512:  97% 16929/17451 [00:04<00:00, 3392.64it/s]\n",
            "Epoch 104. Loss: 1.80863:  97% 16929/17451 [00:04<00:00, 3394.16it/s]\n",
            "Epoch 105. Loss: 1.82930:  97% 16929/17451 [00:05<00:00, 3374.35it/s]\n",
            "Epoch 106. Loss: 1.77889:  97% 16929/17451 [00:05<00:00, 3336.79it/s]\n",
            "Epoch 107. Loss: 1.80405:  97% 16929/17451 [00:05<00:00, 3368.94it/s]\n",
            "Epoch 108. Loss: 1.80502:  97% 16929/17451 [00:05<00:00, 3375.26it/s]\n",
            "Epoch 109. Loss: 1.78250:  97% 16929/17451 [00:04<00:00, 3394.83it/s]\n",
            "Epoch 110. Loss: 1.82472:  97% 16929/17451 [00:05<00:00, 3376.42it/s]\n",
            "Epoch 111. Loss: 1.80478:  97% 16929/17451 [00:05<00:00, 3380.78it/s]\n",
            "Epoch 112. Loss: 1.79751:  97% 16929/17451 [00:05<00:00, 3354.37it/s]\n",
            "Epoch 113. Loss: 1.78606:  97% 16929/17451 [00:05<00:00, 3346.59it/s]\n",
            "Epoch 114. Loss: 1.73989:  97% 16929/17451 [00:05<00:00, 3363.49it/s]\n",
            "Epoch 115. Loss: 1.80480:  97% 16929/17451 [00:05<00:00, 3335.98it/s]\n",
            "Epoch 116. Loss: 1.78905:  97% 16929/17451 [00:04<00:00, 3386.22it/s]\n",
            "Epoch 117. Loss: 1.73096:  97% 16929/17451 [00:05<00:00, 3331.58it/s]\n",
            "Epoch 118. Loss: 1.72487:  97% 16929/17451 [00:05<00:00, 3332.97it/s]\n",
            "Epoch 119. Loss: 1.73933:  97% 16929/17451 [00:05<00:00, 3356.40it/s]\n",
            "Epoch 120. Loss: 1.72479:  97% 16929/17451 [00:05<00:00, 3366.83it/s]\n",
            "Epoch 121. Loss: 1.75067:  97% 16929/17451 [00:05<00:00, 3384.79it/s]\n",
            "Epoch 122. Loss: 1.75044:  97% 16929/17451 [00:05<00:00, 3376.17it/s]\n",
            "Epoch 123. Loss: 1.73959:  97% 16929/17451 [00:04<00:00, 3393.31it/s]\n",
            "Epoch 124. Loss: 1.73346:  97% 16929/17451 [00:05<00:00, 3370.84it/s]\n",
            "Epoch 125. Loss: 1.78009:  97% 16929/17451 [00:05<00:00, 3374.29it/s]\n",
            "Epoch 126. Loss: 1.71070:  97% 16929/17451 [00:05<00:00, 3299.42it/s]\n",
            "Epoch 127. Loss: 1.69497:  97% 16929/17451 [00:05<00:00, 3375.57it/s]\n",
            "Epoch 128. Loss: 1.74174:  97% 16929/17451 [00:05<00:00, 3367.21it/s]\n",
            "Epoch 129. Loss: 1.69705:  97% 16929/17451 [00:05<00:00, 3371.75it/s]\n",
            "Epoch 130. Loss: 1.75665:  97% 16929/17451 [00:05<00:00, 3348.85it/s]\n",
            "Epoch 131. Loss: 1.70714:  97% 16929/17451 [00:05<00:00, 3342.41it/s]\n",
            "Epoch 132. Loss: 1.72442:  97% 16929/17451 [00:04<00:00, 3393.09it/s]\n",
            "Epoch 133. Loss: 1.73464:  97% 16929/17451 [00:05<00:00, 3375.40it/s]\n",
            "Epoch 134. Loss: 1.71878:  97% 16929/17451 [00:05<00:00, 3357.65it/s]\n",
            "Epoch 135. Loss: 1.65980:  97% 16929/17451 [00:05<00:00, 3374.84it/s]\n",
            "Epoch 136. Loss: 1.65885:  97% 16929/17451 [00:05<00:00, 3376.33it/s]\n",
            "Epoch 137. Loss: 1.70316:  97% 16929/17451 [00:05<00:00, 3371.11it/s]\n",
            "Epoch 138. Loss: 1.64040:  97% 16929/17451 [00:05<00:00, 3384.13it/s]\n",
            "Epoch 139. Loss: 1.66202:  97% 16929/17451 [00:05<00:00, 3365.29it/s]\n",
            "Epoch 140. Loss: 1.65429:  97% 16929/17451 [00:04<00:00, 3428.47it/s]\n",
            "Epoch 141. Loss: 1.64518:  97% 16929/17451 [00:04<00:00, 3434.04it/s]\n",
            "Epoch 142. Loss: 1.71666:  97% 16929/17451 [00:04<00:00, 3401.05it/s]\n",
            "Epoch 143. Loss: 1.66444:  97% 16929/17451 [00:05<00:00, 3334.52it/s]\n",
            "Epoch 144. Loss: 1.65894:  97% 16929/17451 [00:04<00:00, 3402.01it/s]\n",
            "Epoch 145. Loss: 1.66875:  97% 16929/17451 [00:04<00:00, 3439.96it/s]\n",
            "Epoch 146. Loss: 1.62857:  97% 16929/17451 [00:04<00:00, 3433.14it/s]\n",
            "Epoch 147. Loss: 1.65927:  97% 16929/17451 [00:04<00:00, 3425.83it/s]\n",
            "Epoch 148. Loss: 1.65922:  97% 16929/17451 [00:04<00:00, 3411.85it/s]\n",
            "Epoch 149. Loss: 1.66551:  97% 16929/17451 [00:05<00:00, 3367.86it/s]\n",
            "Epoch 150. Loss: 1.60684:  97% 16929/17451 [00:05<00:00, 3383.20it/s]\n",
            "Epoch 151. Loss: 1.62341:  97% 16929/17451 [00:04<00:00, 3428.77it/s]\n",
            "Epoch 152. Loss: 1.63775:  97% 16929/17451 [00:04<00:00, 3424.15it/s]\n",
            "Epoch 153. Loss: 1.59955:  97% 16929/17451 [00:04<00:00, 3414.35it/s]\n",
            "Epoch 154. Loss: 1.62435:  97% 16929/17451 [00:04<00:00, 3409.71it/s]\n",
            "Epoch 155. Loss: 1.65782:  97% 16929/17451 [00:05<00:00, 3357.50it/s]\n",
            "Epoch 156. Loss: 1.66387:  97% 16929/17451 [00:04<00:00, 3426.00it/s]\n",
            "Epoch 157. Loss: 1.65522:  97% 16929/17451 [00:04<00:00, 3424.34it/s]\n",
            "Epoch 158. Loss: 1.60856:  97% 16929/17451 [00:04<00:00, 3437.97it/s]\n",
            "Epoch 159. Loss: 1.68136:  97% 16929/17451 [00:04<00:00, 3431.00it/s]\n",
            "Epoch 160. Loss: 1.59010:  97% 16929/17451 [00:05<00:00, 3332.92it/s]\n",
            "Epoch 161. Loss: 1.58805:  97% 16929/17451 [00:05<00:00, 3342.13it/s]\n",
            "Epoch 162. Loss: 1.54823:  97% 16929/17451 [00:04<00:00, 3411.52it/s]\n",
            "Epoch 163. Loss: 1.64623:  97% 16929/17451 [00:04<00:00, 3425.40it/s]\n",
            "Epoch 164. Loss: 1.58572:  97% 16929/17451 [00:04<00:00, 3427.18it/s]\n",
            "Epoch 165. Loss: 1.63009:  97% 16929/17451 [00:04<00:00, 3420.10it/s]\n",
            "Epoch 166. Loss: 1.66516:  97% 16929/17451 [00:04<00:00, 3397.93it/s]\n",
            "Epoch 167. Loss: 1.63517:  97% 16929/17451 [00:04<00:00, 3404.49it/s]\n",
            "Epoch 168. Loss: 1.62353:  97% 16929/17451 [00:04<00:00, 3457.70it/s]\n",
            "Epoch 169. Loss: 1.59495:  97% 16929/17451 [00:04<00:00, 3435.05it/s]\n",
            "Epoch 170. Loss: 1.56881:  97% 16929/17451 [00:04<00:00, 3429.56it/s]\n",
            "Epoch 171. Loss: 1.57103:  97% 16929/17451 [00:04<00:00, 3445.45it/s]\n",
            "Epoch 172. Loss: 1.61326:  97% 16929/17451 [00:04<00:00, 3437.85it/s]\n",
            "Epoch 173. Loss: 1.64857:  97% 16929/17451 [00:04<00:00, 3450.09it/s]\n",
            "Epoch 174. Loss: 1.60064:  97% 16929/17451 [00:04<00:00, 3427.04it/s]\n",
            "Epoch 175. Loss: 1.61825:  97% 16929/17451 [00:04<00:00, 3449.61it/s]\n",
            "Epoch 176. Loss: 1.62364:  97% 16929/17451 [00:04<00:00, 3451.17it/s]\n",
            "Epoch 177. Loss: 1.55312:  97% 16929/17451 [00:04<00:00, 3445.29it/s]\n",
            "Epoch 178. Loss: 1.55464:  97% 16929/17451 [00:04<00:00, 3445.20it/s]\n",
            "Epoch 179. Loss: 1.55971:  97% 16929/17451 [00:04<00:00, 3402.31it/s]\n",
            "Epoch 180. Loss: 1.56739:  97% 16929/17451 [00:04<00:00, 3436.30it/s]\n",
            "Epoch 181. Loss: 1.55598:  97% 16929/17451 [00:04<00:00, 3407.65it/s]\n",
            "Epoch 182. Loss: 1.59925:  97% 16929/17451 [00:04<00:00, 3412.70it/s]\n",
            "Epoch 183. Loss: 1.61998:  97% 16929/17451 [00:04<00:00, 3433.89it/s]\n",
            "Epoch 184. Loss: 1.54046:  97% 16929/17451 [00:04<00:00, 3428.70it/s]\n",
            "Epoch 185. Loss: 1.59349:  97% 16929/17451 [00:04<00:00, 3454.88it/s]\n",
            "Epoch 186. Loss: 1.56108:  97% 16929/17451 [00:04<00:00, 3434.15it/s]\n",
            "Epoch 187. Loss: 1.60738:  97% 16929/17451 [00:04<00:00, 3420.69it/s]\n",
            "Epoch 188. Loss: 1.53169:  97% 16929/17451 [00:04<00:00, 3410.75it/s]\n",
            "Epoch 189. Loss: 1.53808:  97% 16929/17451 [00:04<00:00, 3426.34it/s]\n",
            "Epoch 190. Loss: 1.60566:  97% 16929/17451 [00:04<00:00, 3438.30it/s]\n",
            "Epoch 191. Loss: 1.55123:  97% 16929/17451 [00:04<00:00, 3434.78it/s]\n",
            "Epoch 192. Loss: 1.55362:  97% 16929/17451 [00:04<00:00, 3444.31it/s]\n",
            "Epoch 193. Loss: 1.55058:  97% 16929/17451 [00:04<00:00, 3413.95it/s]\n",
            "Epoch 194. Loss: 1.58191:  97% 16929/17451 [00:04<00:00, 3400.42it/s]\n",
            "Epoch 195. Loss: 1.56758:  97% 16929/17451 [00:05<00:00, 3382.90it/s]\n",
            "Epoch 196. Loss: 1.52853:  97% 16929/17451 [00:04<00:00, 3473.66it/s]\n",
            "Epoch 197. Loss: 1.61449:  97% 16929/17451 [00:04<00:00, 3453.29it/s]\n",
            "Epoch 198. Loss: 1.53036:  97% 16929/17451 [00:04<00:00, 3431.96it/s]\n",
            "Epoch 199. Loss: 1.54734:  97% 16929/17451 [00:04<00:00, 3452.58it/s]\n",
            "Evaluating model...\n",
            "\t - Recall@20 epoch 200: 0.467614\n",
            "\t - MRR@20    epoch 200: 0.163444\n",
            "\n"
          ],
          "name": "stdout"
        }
      ]
    },
    {
      "cell_type": "markdown",
      "metadata": {
        "id": "tk9EgsON-8Sr"
      },
      "source": [
        "## Resultados\n",
        "\n",
        "Luego de 200 épocas, deberías obtener un desempeño similar al siguiente:\n",
        "\n",
        "\t - Recall@20: 0.47\n",
        "\t - MRR@20   : 0.16\n",
        "\n",
        "\n",
        "Para replicar resultados del paper, utiliza el set de entrenamiento completo"
      ]
    },
    {
      "cell_type": "markdown",
      "metadata": {
        "id": "njfQIzqi_KK8"
      },
      "source": [
        "## Aprovechando información implícita: Dwell Time\n",
        "\n",
        "Podemos utilizar el tiempo que cada item fue visitado por cada usuario para realizar mejores recomendaciones.\n",
        "\n",
        "El supuesto es: a mayor tiempo de permanencia (dwell time) en un item, más interesado está el usuario en dicho item.\n",
        "\n",
        "Se hará item boosting en el set de entrenamiento."
      ]
    },
    {
      "cell_type": "code",
      "metadata": {
        "id": "lh9fruDcuVYg"
      },
      "source": [
        "def preprocess_df(df):    \n",
        "    n_items = len(df['ItemId'].unique())\n",
        "    aux = list(df['ItemId'].unique())\n",
        "    itemids = np.array(aux)\n",
        "    itemidmap = pd.Series(data=np.arange(n_items), index=itemids)  # (id_item => (0, n_items))\n",
        "    \n",
        "    item_key = 'ItemId'\n",
        "    session_key = 'SessionId'\n",
        "    time_key = 'Time'\n",
        "    \n",
        "    data = pd.merge(df, pd.DataFrame({item_key:itemids, 'ItemIdx':itemidmap[itemids].values}), on=item_key, how='inner')\n",
        "    data.sort_values([session_key, time_key], inplace=True)\n",
        "\n",
        "    length = len(data['ItemId'])\n",
        "        \n",
        "    return data"
      ],
      "execution_count": 11,
      "outputs": []
    },
    {
      "cell_type": "code",
      "metadata": {
        "id": "j5O-1YDR_vNY"
      },
      "source": [
        "def compute_dwell_time(df):\n",
        "    times_t = np.roll(df['Time'], -1) # Take time row\n",
        "    times_dt  = df['Time']            # Copy, then displace by one\n",
        "    diffs = np.subtract(times_t, times_dt) # Take pairwise difference\n",
        "    length = len(df['ItemId'])\n",
        "    \n",
        "    # cummulative offset start for each session\n",
        "    offset_sessions = np.zeros(df['SessionId'].nunique()+1, dtype=np.int32)\n",
        "    offset_sessions[1:] = df.groupby('SessionId').size().cumsum() \n",
        "    offset_sessions = offset_sessions - 1\n",
        "    offset_sessions = np.roll(offset_sessions, -1)\n",
        "    \n",
        "    np.put(diffs.values, offset_sessions, np.zeros((offset_sessions.shape)), mode='raise')\n",
        "\n",
        "    return diffs"
      ],
      "execution_count": 12,
      "outputs": []
    },
    {
      "cell_type": "code",
      "metadata": {
        "id": "7vFvOPH9Bfeq"
      },
      "source": [
        "def get_distribution(dts):\n",
        "    filtered = np.array(list(filter(lambda x: int(x) != 0, dts)))\n",
        "    pd_dts = pd.DataFrame(filtered)\n",
        "    pd_dts.boxplot(vert=False, showfliers=False)\n",
        "    plt.xlabel(\"Seconds\")\n",
        "    plt.yticks([])\n",
        "    plt.title(\"Dwell time distribution for RSC15 dataset\")\n",
        "    plt.show()\n",
        "    pd_dts.describe()"
      ],
      "execution_count": 13,
      "outputs": []
    },
    {
      "cell_type": "code",
      "metadata": {
        "id": "pPxWD0xPBfVE"
      },
      "source": [
        "def join_dwell_reps(df, dt, threshold=2000):\n",
        "    # Calculate d_ti/threshold + 1 then add column to dataFrame\n",
        "    dt //= threshold\n",
        "    dt += 1   \n",
        "    df['DwellReps'] = pd.Series(dt.astype(np.int64), index=dt.index)"
      ],
      "execution_count": 14,
      "outputs": []
    },
    {
      "cell_type": "code",
      "metadata": {
        "id": "jYX1RjhQ_wZG"
      },
      "source": [
        "def augment(df):    \n",
        "    col_names = list(df.columns.values)[:3]\n",
        "    augmented = np.repeat(df.values, df['DwellReps'], axis=0) \n",
        "    augmented = pd.DataFrame(data=augmented[:,:3],\n",
        "                             columns=col_names)\n",
        "    dtype = {'SessionId': np.int64, \n",
        "             'ItemId': np.int64, \n",
        "             'Time': np.float32}\n",
        "    \n",
        "    for k, v in dtype.items():\n",
        "        augmented[k] = augmented[k].astype(v)                  \n",
        "    \n",
        "    return augmented"
      ],
      "execution_count": 15,
      "outputs": []
    },
    {
      "cell_type": "code",
      "metadata": {
        "id": "veILDG2X_yJm"
      },
      "source": [
        "new_df = preprocess_df(train)\n",
        "dts = compute_dwell_time(new_df)"
      ],
      "execution_count": 16,
      "outputs": []
    },
    {
      "cell_type": "code",
      "metadata": {
        "id": "7xIJMF5aABmF",
        "colab": {
          "base_uri": "https://localhost:8080/",
          "height": 295
        },
        "outputId": "bb4d4c31-e063-40ff-bcbb-1fb4ca823546"
      },
      "source": [
        "# Visualize\n",
        "get_distribution(dts)"
      ],
      "execution_count": 17,
      "outputs": [
        {
          "output_type": "display_data",
          "data": {
            "image/png": "[encoded data removed]",
            "text/plain": [
              "<Figure size 432x288 with 1 Axes>"
            ]
          },
          "metadata": {
            "tags": [],
            "needs_background": "light"
          }
        }
      ]
    },
    {
      "cell_type": "code",
      "metadata": {
        "id": "Y4mZ3YB0Ai4q"
      },
      "source": [
        "# threshold is a hyperparameter\n",
        "join_dwell_reps(new_df, dts, threshold=75)\n",
        "\n",
        "# augment the sessions copying each entry an additional (dwellReps[i]-1) times\n",
        "df_aug = augment(new_df)\n",
        "df_aug.to_csv(\"./data/augmented_train.csv\", index=False, sep='\\t')"
      ],
      "execution_count": 18,
      "outputs": []
    },
    {
      "cell_type": "code",
      "metadata": {
        "id": "X1N36STyCrrs",
        "colab": {
          "base_uri": "https://localhost:8080/"
        },
        "outputId": "5b080ec3-c16c-4145-c7d3-cec09a6b739f"
      },
      "source": [
        "# retrieve 1/n most recent fraction for demo purposes \n",
        "# (note it is a smaller fraction due to the inflation process)\n",
        "fraction = 64*7\n",
        "train_fraction(df_aug, fraction, prefix='aug_train')"
      ],
      "execution_count": 19,
      "outputs": [
        {
          "output_type": "stream",
          "text": [
            "Fractioned data set\n",
            "\tEvents: 151923\n",
            "\tSessions: 16351\n",
            "\tItems: 8484\n",
            "Saved as ./data/aug_train_448.tsv\n"
          ],
          "name": "stdout"
        }
      ]
    },
    {
      "cell_type": "markdown",
      "metadata": {
        "id": "v2E2q1ArD5Sr"
      },
      "source": [
        "## Entrenamiento con Dwell Time"
      ]
    },
    {
      "cell_type": "code",
      "metadata": {
        "id": "HNq8lpRADWZ2",
        "colab": {
          "base_uri": "https://localhost:8080/"
        },
        "outputId": "58d49796-68d1-43a1-d714-c936ed79e40c"
      },
      "source": [
        "!python src/model/gru4rec.py --epochs 200 --train-path ./data/aug_train_448.tsv --dev-path ./data/validation.tsv --test-path ./data/test.tsv"
      ],
      "execution_count": 20,
      "outputs": [
        {
          "output_type": "stream",
          "text": [
            "Model: \"functional_1\"\n",
            "_________________________________________________________________\n",
            "Layer (type)                 Output Shape              Param #   \n",
            "=================================================================\n",
            "input_1 (InputLayer)         [(512, 1, 8485)]          0         \n",
            "_________________________________________________________________\n",
            "GRU (GRU)                    [(512, 100), (512, 100)]  2576100   \n",
            "_________________________________________________________________\n",
            "dropout (Dropout)            (512, 100)                0         \n",
            "_________________________________________________________________\n",
            "dense (Dense)                (512, 8485)               856985    \n",
            "=================================================================\n",
            "Total params: 3,433,085\n",
            "Trainable params: 3,433,085\n",
            "Non-trainable params: 0\n",
            "_________________________________________________________________\n",
            "Epoch 1. Loss: 7.62566:  97% 15835/16352 [00:19<00:00, 797.01it/s] \n",
            "Epoch 2. Loss: 6.91602:  97% 15835/16352 [00:12<00:00, 1282.17it/s]\n",
            "Epoch 3. Loss: 6.11461:  97% 15835/16352 [00:12<00:00, 1293.72it/s]\n",
            "Epoch 4. Loss: 5.23605:  97% 15835/16352 [00:12<00:00, 1294.22it/s]\n",
            "Epoch 5. Loss: 4.62303:  97% 15835/16352 [00:12<00:00, 1289.89it/s]\n",
            "Epoch 6. Loss: 4.12986:  97% 15835/16352 [00:12<00:00, 1291.66it/s]\n",
            "Epoch 7. Loss: 3.75316:  97% 15835/16352 [00:12<00:00, 1278.93it/s]\n",
            "Epoch 8. Loss: 3.46210:  97% 15835/16352 [00:12<00:00, 1281.34it/s]\n",
            "Epoch 9. Loss: 3.16019:  97% 15835/16352 [00:12<00:00, 1279.07it/s]\n",
            "Epoch 10. Loss: 2.94891:  97% 15835/16352 [00:12<00:00, 1289.76it/s]\n",
            "Epoch 11. Loss: 2.76465:  97% 15835/16352 [00:12<00:00, 1274.91it/s]\n",
            "Epoch 12. Loss: 2.63366:  97% 15835/16352 [00:12<00:00, 1277.86it/s]\n",
            "Epoch 13. Loss: 2.48865:  97% 15835/16352 [00:12<00:00, 1282.74it/s]\n",
            "Epoch 14. Loss: 2.39720:  97% 15835/16352 [00:12<00:00, 1284.09it/s]\n",
            "Epoch 15. Loss: 2.28005:  97% 15835/16352 [00:12<00:00, 1270.58it/s]\n",
            "Epoch 16. Loss: 2.18622:  97% 15835/16352 [00:12<00:00, 1287.74it/s]\n",
            "Epoch 17. Loss: 2.07272:  97% 15835/16352 [00:12<00:00, 1281.45it/s]\n",
            "Epoch 18. Loss: 2.00020:  97% 15835/16352 [00:12<00:00, 1283.53it/s]\n",
            "Epoch 19. Loss: 1.97916:  97% 15835/16352 [00:12<00:00, 1290.51it/s]\n",
            "Epoch 20. Loss: 1.91512:  97% 15835/16352 [00:12<00:00, 1282.29it/s]\n",
            "Epoch 21. Loss: 1.83723:  97% 15835/16352 [00:12<00:00, 1281.12it/s]\n",
            "Epoch 22. Loss: 1.78134:  97% 15835/16352 [00:12<00:00, 1289.09it/s]\n",
            "Epoch 23. Loss: 1.74405:  97% 15835/16352 [00:12<00:00, 1256.16it/s]\n",
            "Epoch 24. Loss: 1.70084:  97% 15835/16352 [00:12<00:00, 1286.88it/s]\n",
            "Epoch 25. Loss: 1.68852:  97% 15835/16352 [00:12<00:00, 1264.55it/s]\n",
            "Epoch 26. Loss: 1.64472:  97% 15835/16352 [00:12<00:00, 1270.80it/s]\n",
            "Epoch 27. Loss: 1.61696:  97% 15835/16352 [00:12<00:00, 1258.02it/s]\n",
            "Epoch 28. Loss: 1.58243:  97% 15835/16352 [00:12<00:00, 1277.03it/s]\n",
            "Epoch 29. Loss: 1.50229:  97% 15835/16352 [00:12<00:00, 1292.41it/s]\n",
            "Epoch 30. Loss: 1.49233:  97% 15835/16352 [00:12<00:00, 1300.17it/s]\n",
            "Epoch 31. Loss: 1.50490:  97% 15835/16352 [00:12<00:00, 1291.57it/s]\n",
            "Epoch 32. Loss: 1.40519:  97% 15835/16352 [00:12<00:00, 1302.15it/s]\n",
            "Epoch 33. Loss: 1.41616:  97% 15835/16352 [00:12<00:00, 1268.88it/s]\n",
            "Epoch 34. Loss: 1.37006:  97% 15835/16352 [00:12<00:00, 1258.28it/s]\n",
            "Epoch 35. Loss: 1.38165:  97% 15835/16352 [00:12<00:00, 1258.66it/s]\n",
            "Epoch 36. Loss: 1.35659:  97% 15835/16352 [00:12<00:00, 1260.12it/s]\n",
            "Epoch 37. Loss: 1.35791:  97% 15835/16352 [00:12<00:00, 1263.10it/s]\n",
            "Epoch 38. Loss: 1.35526:  97% 15835/16352 [00:12<00:00, 1261.83it/s]\n",
            "Epoch 39. Loss: 1.31203:  97% 15835/16352 [00:12<00:00, 1268.20it/s]\n",
            "Epoch 40. Loss: 1.29232:  97% 15835/16352 [00:12<00:00, 1282.80it/s]\n",
            "Epoch 41. Loss: 1.33463:  97% 15835/16352 [00:12<00:00, 1268.62it/s]\n",
            "Epoch 42. Loss: 1.26900:  97% 15835/16352 [00:12<00:00, 1261.48it/s]\n",
            "Epoch 43. Loss: 1.24722:  97% 15835/16352 [00:12<00:00, 1267.88it/s]\n",
            "Epoch 44. Loss: 1.29243:  97% 15835/16352 [00:12<00:00, 1259.37it/s]\n",
            "Epoch 45. Loss: 1.27366:  97% 15835/16352 [00:12<00:00, 1259.86it/s]\n",
            "Epoch 46. Loss: 1.25988:  97% 15835/16352 [00:12<00:00, 1263.50it/s]\n",
            "Epoch 47. Loss: 1.24187:  97% 15835/16352 [00:12<00:00, 1255.09it/s]\n",
            "Epoch 48. Loss: 1.22507:  97% 15835/16352 [00:12<00:00, 1260.46it/s]\n",
            "Epoch 49. Loss: 1.26397:  97% 15835/16352 [00:12<00:00, 1305.22it/s]\n",
            "Epoch 50. Loss: 1.19929:  97% 15835/16352 [00:12<00:00, 1296.58it/s]\n",
            "Epoch 51. Loss: 1.20998:  97% 15835/16352 [00:12<00:00, 1305.79it/s]\n",
            "Epoch 52. Loss: 1.20130:  97% 15835/16352 [00:12<00:00, 1300.95it/s]\n",
            "Epoch 53. Loss: 1.19040:  97% 15835/16352 [00:12<00:00, 1300.03it/s]\n",
            "Epoch 54. Loss: 1.21070:  97% 15835/16352 [00:12<00:00, 1301.19it/s]\n",
            "Epoch 55. Loss: 1.18417:  97% 15835/16352 [00:12<00:00, 1302.88it/s]\n",
            "Epoch 56. Loss: 1.19886:  97% 15835/16352 [00:12<00:00, 1311.75it/s]\n",
            "Epoch 57. Loss: 1.19742:  97% 15835/16352 [00:12<00:00, 1303.89it/s]\n",
            "Epoch 58. Loss: 1.16477:  97% 15835/16352 [00:12<00:00, 1313.14it/s]\n",
            "Epoch 59. Loss: 1.13294:  97% 15835/16352 [00:12<00:00, 1317.26it/s]\n",
            "Epoch 60. Loss: 1.18954:  97% 15835/16352 [00:12<00:00, 1310.63it/s]\n",
            "Epoch 61. Loss: 1.18817:  97% 15835/16352 [00:12<00:00, 1314.60it/s]\n",
            "Epoch 62. Loss: 1.16835:  97% 15835/16352 [00:12<00:00, 1306.65it/s]\n",
            "Epoch 63. Loss: 1.13455:  97% 15835/16352 [00:11<00:00, 1320.21it/s]\n",
            "Epoch 64. Loss: 1.13341:  97% 15835/16352 [00:12<00:00, 1290.73it/s]\n",
            "Epoch 65. Loss: 1.13963:  97% 15835/16352 [00:12<00:00, 1295.86it/s]\n",
            "Epoch 66. Loss: 1.11252:  97% 15835/16352 [00:12<00:00, 1316.84it/s]\n",
            "Epoch 67. Loss: 1.10146:  97% 15835/16352 [00:12<00:00, 1306.95it/s]\n",
            "Epoch 68. Loss: 1.13484:  97% 15835/16352 [00:11<00:00, 1329.45it/s]\n",
            "Epoch 69. Loss: 1.09540:  97% 15835/16352 [00:11<00:00, 1331.71it/s]\n",
            "Epoch 70. Loss: 1.12819:  97% 15835/16352 [00:11<00:00, 1331.91it/s]\n",
            "Epoch 71. Loss: 1.06619:  97% 15835/16352 [00:11<00:00, 1326.61it/s]\n",
            "Epoch 72. Loss: 1.06490:  97% 15835/16352 [00:11<00:00, 1327.60it/s]\n",
            "Epoch 73. Loss: 1.14688:  97% 15835/16352 [00:11<00:00, 1326.12it/s]\n",
            "Epoch 74. Loss: 1.14889:  97% 15835/16352 [00:12<00:00, 1303.48it/s]\n",
            "Epoch 75. Loss: 1.07740:  97% 15835/16352 [00:12<00:00, 1299.02it/s]\n",
            "Epoch 76. Loss: 1.12666:  97% 15835/16352 [00:12<00:00, 1295.24it/s]\n",
            "Epoch 77. Loss: 1.05252:  97% 15835/16352 [00:12<00:00, 1280.88it/s]\n",
            "Epoch 78. Loss: 1.08280:  97% 15835/16352 [00:12<00:00, 1299.24it/s]\n",
            "Epoch 79. Loss: 1.12939:  97% 15835/16352 [00:12<00:00, 1294.42it/s]\n",
            "Epoch 80. Loss: 1.08198:  97% 15835/16352 [00:12<00:00, 1278.53it/s]\n",
            "Epoch 81. Loss: 1.08000:  97% 15835/16352 [00:12<00:00, 1293.97it/s]\n",
            "Epoch 82. Loss: 1.09562:  97% 15835/16352 [00:12<00:00, 1293.23it/s]\n",
            "Epoch 83. Loss: 1.04061:  97% 15835/16352 [00:12<00:00, 1301.20it/s]\n",
            "Epoch 84. Loss: 1.09064:  97% 15835/16352 [00:12<00:00, 1297.57it/s]\n",
            "Epoch 85. Loss: 1.05948:  97% 15835/16352 [00:12<00:00, 1301.84it/s]\n",
            "Epoch 86. Loss: 1.07614:  97% 15835/16352 [00:11<00:00, 1332.84it/s]\n",
            "Epoch 87. Loss: 1.02495:  97% 15835/16352 [00:12<00:00, 1319.08it/s]\n",
            "Epoch 88. Loss: 1.04229:  97% 15835/16352 [00:11<00:00, 1335.14it/s]\n",
            "Epoch 89. Loss: 1.07930:  97% 15835/16352 [00:12<00:00, 1315.73it/s]\n",
            "Epoch 90. Loss: 1.07019:  97% 15835/16352 [00:11<00:00, 1326.86it/s]\n",
            "Epoch 91. Loss: 1.03592:  97% 15835/16352 [00:12<00:00, 1308.85it/s]\n",
            "Epoch 92. Loss: 1.02257:  97% 15835/16352 [00:12<00:00, 1318.29it/s]\n",
            "Epoch 93. Loss: 1.03567:  97% 15835/16352 [00:12<00:00, 1313.04it/s]\n",
            "Epoch 94. Loss: 1.01115:  97% 15835/16352 [00:12<00:00, 1296.39it/s]\n",
            "Epoch 95. Loss: 1.02965:  97% 15835/16352 [00:11<00:00, 1328.99it/s]\n",
            "Epoch 96. Loss: 1.03213:  97% 15835/16352 [00:11<00:00, 1339.94it/s]\n",
            "Epoch 97. Loss: 1.02362:  97% 15835/16352 [00:11<00:00, 1338.00it/s]\n",
            "Epoch 98. Loss: 0.96135:  97% 15835/16352 [00:11<00:00, 1334.77it/s]\n",
            "Epoch 99. Loss: 1.01688:  97% 15835/16352 [00:12<00:00, 1309.10it/s]\n",
            "Epoch 100. Loss: 1.02058:  97% 15835/16352 [00:12<00:00, 1308.94it/s]\n",
            "Epoch 101. Loss: 1.02418:  97% 15835/16352 [00:11<00:00, 1333.38it/s]\n",
            "Epoch 102. Loss: 1.04591:  97% 15835/16352 [00:11<00:00, 1339.27it/s]\n",
            "Epoch 103. Loss: 1.03942:  97% 15835/16352 [00:12<00:00, 1314.80it/s]\n",
            "Epoch 104. Loss: 0.98802:  97% 15835/16352 [00:12<00:00, 1303.28it/s]\n",
            "Epoch 105. Loss: 0.98946:  97% 15835/16352 [00:12<00:00, 1285.62it/s]\n",
            "Epoch 106. Loss: 1.05740:  97% 15835/16352 [00:12<00:00, 1308.75it/s]\n",
            "Epoch 107. Loss: 0.95030:  97% 15835/16352 [00:12<00:00, 1313.68it/s]\n",
            "Epoch 108. Loss: 0.97236:  97% 15835/16352 [00:11<00:00, 1340.57it/s]\n",
            "Epoch 109. Loss: 0.99134:  97% 15835/16352 [00:11<00:00, 1338.37it/s]\n",
            "Epoch 110. Loss: 0.98103:  97% 15835/16352 [00:11<00:00, 1330.53it/s]\n",
            "Epoch 111. Loss: 0.96691:  97% 15835/16352 [00:11<00:00, 1332.19it/s]\n",
            "Epoch 112. Loss: 1.00079:  97% 15835/16352 [00:12<00:00, 1319.32it/s]\n",
            "Epoch 113. Loss: 0.96446:  97% 15835/16352 [00:12<00:00, 1305.61it/s]\n",
            "Epoch 114. Loss: 0.98739:  97% 15835/16352 [00:11<00:00, 1324.91it/s]\n",
            "Epoch 115. Loss: 0.98595:  97% 15835/16352 [00:12<00:00, 1318.15it/s]\n",
            "Epoch 116. Loss: 0.97776:  97% 15835/16352 [00:11<00:00, 1334.99it/s]\n",
            "Epoch 117. Loss: 1.00588:  97% 15835/16352 [00:11<00:00, 1330.32it/s]\n",
            "Epoch 118. Loss: 0.96860:  97% 15835/16352 [00:11<00:00, 1338.38it/s]\n",
            "Epoch 119. Loss: 0.97913:  97% 15835/16352 [00:11<00:00, 1327.27it/s]\n",
            "Epoch 120. Loss: 0.97191:  97% 15835/16352 [00:11<00:00, 1321.96it/s]\n",
            "Epoch 121. Loss: 0.99109:  97% 15835/16352 [00:11<00:00, 1320.12it/s]\n",
            "Epoch 122. Loss: 0.96537:  97% 15835/16352 [00:11<00:00, 1331.72it/s]\n",
            "Epoch 123. Loss: 1.02057:  97% 15835/16352 [00:11<00:00, 1332.99it/s]\n",
            "Epoch 124. Loss: 0.96389:  97% 15835/16352 [00:11<00:00, 1334.55it/s]\n",
            "Epoch 125. Loss: 1.01701:  97% 15835/16352 [00:12<00:00, 1313.38it/s]\n",
            "Epoch 126. Loss: 1.00408:  97% 15835/16352 [00:12<00:00, 1318.09it/s]\n",
            "Epoch 127. Loss: 1.00268:  97% 15835/16352 [00:11<00:00, 1326.03it/s]\n",
            "Epoch 128. Loss: 0.99307:  97% 15835/16352 [00:11<00:00, 1328.60it/s]\n",
            "Epoch 129. Loss: 0.98782:  97% 15835/16352 [00:11<00:00, 1325.31it/s]\n",
            "Epoch 130. Loss: 0.97457:  97% 15835/16352 [00:11<00:00, 1330.58it/s]\n",
            "Epoch 131. Loss: 0.99826:  97% 15835/16352 [00:11<00:00, 1333.34it/s]\n",
            "Epoch 132. Loss: 0.95237:  97% 15835/16352 [00:11<00:00, 1329.32it/s]\n",
            "Epoch 133. Loss: 0.96812:  97% 15835/16352 [00:11<00:00, 1332.42it/s]\n",
            "Epoch 134. Loss: 0.93974:  97% 15835/16352 [00:12<00:00, 1319.27it/s]\n",
            "Epoch 135. Loss: 1.01680:  97% 15835/16352 [00:11<00:00, 1336.58it/s]\n",
            "Epoch 136. Loss: 1.00280:  97% 15835/16352 [00:11<00:00, 1332.11it/s]\n",
            "Epoch 137. Loss: 0.97183:  97% 15835/16352 [00:11<00:00, 1329.77it/s]\n",
            "Epoch 138. Loss: 0.97600:  97% 15835/16352 [00:11<00:00, 1340.25it/s]\n",
            "Epoch 139. Loss: 0.96095:  97% 15835/16352 [00:11<00:00, 1342.98it/s]\n",
            "Epoch 140. Loss: 0.95708:  97% 15835/16352 [00:11<00:00, 1326.35it/s]\n",
            "Epoch 141. Loss: 0.94795:  97% 15835/16352 [00:12<00:00, 1314.80it/s]\n",
            "Epoch 142. Loss: 1.00656:  97% 15835/16352 [00:11<00:00, 1337.73it/s]\n",
            "Epoch 143. Loss: 1.01258:  97% 15835/16352 [00:12<00:00, 1311.34it/s]\n",
            "Epoch 144. Loss: 0.97162:  97% 15835/16352 [00:12<00:00, 1305.67it/s]\n",
            "Epoch 145. Loss: 0.99615:  97% 15835/16352 [00:12<00:00, 1315.85it/s]\n",
            "Epoch 146. Loss: 0.95694:  97% 15835/16352 [00:12<00:00, 1308.16it/s]\n",
            "Epoch 147. Loss: 0.98722:  97% 15835/16352 [00:12<00:00, 1315.35it/s]\n",
            "Epoch 148. Loss: 0.97243:  97% 15835/16352 [00:11<00:00, 1333.10it/s]\n",
            "Epoch 149. Loss: 1.03766:  97% 15835/16352 [00:11<00:00, 1334.94it/s]\n",
            "Epoch 150. Loss: 1.00103:  97% 15835/16352 [00:11<00:00, 1334.81it/s]\n",
            "Epoch 151. Loss: 1.00393:  97% 15835/16352 [00:12<00:00, 1312.86it/s]\n",
            "Epoch 152. Loss: 1.00724:  97% 15835/16352 [00:12<00:00, 1315.08it/s]\n",
            "Epoch 153. Loss: 0.96228:  97% 15835/16352 [00:11<00:00, 1323.96it/s]\n",
            "Epoch 154. Loss: 0.97251:  97% 15835/16352 [00:11<00:00, 1328.24it/s]\n",
            "Epoch 155. Loss: 1.00373:  97% 15835/16352 [00:11<00:00, 1321.58it/s]\n",
            "Epoch 156. Loss: 0.96294:  97% 15835/16352 [00:11<00:00, 1332.00it/s]\n",
            "Epoch 157. Loss: 0.92282:  97% 15835/16352 [00:11<00:00, 1334.54it/s]\n",
            "Epoch 158. Loss: 0.96821:  97% 15835/16352 [00:11<00:00, 1340.65it/s]\n",
            "Epoch 159. Loss: 1.00748:  97% 15835/16352 [00:11<00:00, 1333.82it/s]\n",
            "Epoch 160. Loss: 0.94066:  97% 15835/16352 [00:11<00:00, 1330.54it/s]\n",
            "Epoch 161. Loss: 0.97105:  97% 15835/16352 [00:12<00:00, 1319.27it/s]\n",
            "Epoch 162. Loss: 0.98562:  97% 15835/16352 [00:11<00:00, 1327.68it/s]\n",
            "Epoch 163. Loss: 0.93343:  97% 15835/16352 [00:11<00:00, 1334.93it/s]\n",
            "Epoch 164. Loss: 0.96912:  97% 15835/16352 [00:11<00:00, 1336.20it/s]\n",
            "Epoch 165. Loss: 0.98350:  97% 15835/16352 [00:11<00:00, 1333.58it/s]\n",
            "Epoch 166. Loss: 0.93169:  97% 15835/16352 [00:11<00:00, 1321.70it/s]\n",
            "Epoch 167. Loss: 0.90739:  97% 15835/16352 [00:11<00:00, 1325.55it/s]\n",
            "Epoch 168. Loss: 0.99534:  97% 15835/16352 [00:12<00:00, 1290.69it/s]\n",
            "Epoch 169. Loss: 0.99103:  97% 15835/16352 [00:12<00:00, 1307.35it/s]\n",
            "Epoch 170. Loss: 1.00841:  97% 15835/16352 [00:12<00:00, 1317.55it/s]\n",
            "Epoch 171. Loss: 0.99996:  97% 15835/16352 [00:11<00:00, 1332.65it/s]\n",
            "Epoch 172. Loss: 0.94645:  97% 15835/16352 [00:11<00:00, 1340.53it/s]\n",
            "Epoch 173. Loss: 0.97536:  97% 15835/16352 [00:11<00:00, 1336.18it/s]\n",
            "Epoch 174. Loss: 0.98136:  97% 15835/16352 [00:11<00:00, 1322.18it/s]\n",
            "Epoch 175. Loss: 0.97298:  97% 15835/16352 [00:11<00:00, 1331.18it/s]\n",
            "Epoch 176. Loss: 0.90322:  97% 15835/16352 [00:11<00:00, 1332.75it/s]\n",
            "Epoch 177. Loss: 0.94010:  97% 15835/16352 [00:12<00:00, 1307.64it/s]\n",
            "Epoch 178. Loss: 0.94320:  97% 15835/16352 [00:12<00:00, 1314.31it/s]\n",
            "Epoch 179. Loss: 0.98399:  97% 15835/16352 [00:11<00:00, 1328.56it/s]\n",
            "Epoch 180. Loss: 0.98495:  97% 15835/16352 [00:11<00:00, 1327.44it/s]\n",
            "Epoch 181. Loss: 0.92262:  97% 15835/16352 [00:11<00:00, 1327.60it/s]\n",
            "Epoch 182. Loss: 0.97823:  97% 15835/16352 [00:11<00:00, 1328.61it/s]\n",
            "Epoch 183. Loss: 1.00888:  97% 15835/16352 [00:11<00:00, 1334.78it/s]\n",
            "Epoch 184. Loss: 0.99298:  97% 15835/16352 [00:11<00:00, 1341.39it/s]\n",
            "Epoch 185. Loss: 0.96474:  97% 15835/16352 [00:11<00:00, 1332.73it/s]\n",
            "Epoch 186. Loss: 0.98442:  97% 15835/16352 [00:11<00:00, 1333.62it/s]\n",
            "Epoch 187. Loss: 0.94830:  97% 15835/16352 [00:11<00:00, 1329.73it/s]\n",
            "Epoch 188. Loss: 0.97202:  97% 15835/16352 [00:11<00:00, 1320.60it/s]\n",
            "Epoch 189. Loss: 0.95060:  97% 15835/16352 [00:11<00:00, 1329.02it/s]\n",
            "Epoch 190. Loss: 0.94219:  97% 15835/16352 [00:11<00:00, 1330.72it/s]\n",
            "Epoch 191. Loss: 0.94195:  97% 15835/16352 [00:11<00:00, 1333.26it/s]\n",
            "Epoch 192. Loss: 0.91364:  97% 15835/16352 [00:12<00:00, 1318.39it/s]\n",
            "Epoch 193. Loss: 1.01172:  97% 15835/16352 [00:11<00:00, 1335.83it/s]\n",
            "Epoch 194. Loss: 0.95048:  97% 15835/16352 [00:11<00:00, 1335.06it/s]\n",
            "Epoch 195. Loss: 0.95576:  97% 15835/16352 [00:12<00:00, 1304.24it/s]\n",
            "Epoch 196. Loss: 0.93735:  97% 15835/16352 [00:11<00:00, 1337.86it/s]\n",
            "Epoch 197. Loss: 0.95171:  97% 15835/16352 [00:11<00:00, 1335.88it/s]\n",
            "Epoch 198. Loss: 0.92212:  97% 15835/16352 [00:11<00:00, 1335.00it/s]\n",
            "Epoch 199. Loss: 0.90457:  97% 15835/16352 [00:11<00:00, 1331.74it/s]\n",
            "Evaluating model...\n",
            "\t - Recall@20 epoch 200: 0.509208\n",
            "\t - MRR@20    epoch 200: 0.209461\n",
            "\n"
          ],
          "name": "stdout"
        }
      ]
    },
    {
      "cell_type": "markdown",
      "metadata": {
        "id": "YdMFiWFK65w1"
      },
      "source": [
        "Indique el resultado del modelo con Dwell Time. \n",
        "\n",
        "- Recall@20: 0.51\n",
        "- MRR@20: 0.21\n",
        "\n",
        "Tanto Recall@20 como MRR@20 aumentan el valor de sus métricas. El primero en 0.4 y el segundo en 0.5"
      ]
    }
  ]
}